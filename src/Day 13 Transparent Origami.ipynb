{
 "cells": [
  {
   "cell_type": "markdown",
   "id": "e43bb3dd-d23a-4965-9945-9fae92f9648a",
   "metadata": {},
   "source": [
    "# [Day 13: Transparent Origami](https://adventofcode.com/2021/day/13)"
   ]
  },
  {
   "cell_type": "code",
   "execution_count": 1,
   "id": "5b0f0384-fc3c-459b-bf1b-2b8a2dd17a16",
   "metadata": {},
   "outputs": [],
   "source": [
    "import collections as cl"
   ]
  },
  {
   "cell_type": "markdown",
   "id": "4a0e7528-f417-4842-8161-9b818dc4569a",
   "metadata": {},
   "source": [
    "## Part 1"
   ]
  },
  {
   "cell_type": "code",
   "execution_count": 2,
   "id": "0e2c95d3-e369-43ae-ae18-b15dcb4989a2",
   "metadata": {},
   "outputs": [],
   "source": [
    "example_data = [\n",
    "    \"6,10\",\n",
    "    \"0,14\",\n",
    "    \"9,10\",\n",
    "    \"0,3\",\n",
    "    \"10,4\",\n",
    "    \"4,11\",\n",
    "    \"6,0\",\n",
    "    \"6,12\",\n",
    "    \"4,1\",\n",
    "    \"0,13\",\n",
    "    \"10,12\",\n",
    "    \"3,4\",\n",
    "    \"3,0\",\n",
    "    \"8,4\",\n",
    "    \"1,10\",\n",
    "    \"2,14\",\n",
    "    \"8,10\",\n",
    "    \"9,0\",\n",
    "    \"\",\n",
    "    \"fold along y=7\",\n",
    "    \"fold along x=5\",\n",
    "]"
   ]
  },
  {
   "cell_type": "code",
   "execution_count": 3,
   "id": "bdf3e960-3511-4f7b-8bf1-0397d97dd9d0",
   "metadata": {},
   "outputs": [],
   "source": [
    "def parse_sheet_data(sheet_data):\n",
    "    dot_section = True\n",
    "    dots = []\n",
    "    folds = []\n",
    "    for line in sheet_data:\n",
    "        if not line:\n",
    "            dot_section = False\n",
    "            continue\n",
    "        if dot_section:\n",
    "            dots.append(tuple(map(int, line.split(\",\"))))\n",
    "        else:\n",
    "            axis, n = line.split(\" \")[-1].split(\"=\")\n",
    "            folds.append((f\"fold_{axis.lower()}\", int(n)))\n",
    "    return {\"dots\": dots, \"folds\": folds}\n",
    "\n",
    "\n",
    "class Sheet:\n",
    "    def __init__(self, sheet_data):\n",
    "        self.sheet_data = parse_sheet_data(sheet_data)\n",
    "        self.fold_pos = 0\n",
    "\n",
    "        # create and fill sheet\n",
    "        self.len_x = max([p[0] for p in self.sheet_data[\"dots\"]]) + 1\n",
    "        self.len_y = max([p[1] for p in self.sheet_data[\"dots\"]]) + 1\n",
    "        self.sheet = [[\".\"] * (self.len_x) for _ in range(self.len_y)]\n",
    "        for x, y in self.sheet_data[\"dots\"]:\n",
    "            self.sheet[y][x] = \"#\"\n",
    "\n",
    "\n",
    "    def fold_x(self, col):\n",
    "        for y in range(self.len_y):\n",
    "            for x in range(col):\n",
    "                self.sheet[y][x] = min(self.sheet[y][x], self.sheet[y][self.len_x - x - 1])\n",
    "        for y in range(self.len_y):\n",
    "            self.sheet[y] = self.sheet[y][:col]\n",
    "        self.len_x = len(self.sheet[0])\n",
    "\n",
    "\n",
    "    def fold_y(self, row):\n",
    "        for y in range(row):\n",
    "            for x in range(self.len_x):\n",
    "                self.sheet[y][x] = min(self.sheet[y][x], self.sheet[self.len_y - y - 1][x])\n",
    "        self.sheet = self.sheet[:row]\n",
    "        self.len_y = len(self.sheet)\n",
    "\n",
    "\n",
    "    def fold(self, n=0):\n",
    "        max_n = len(self.sheet_data[\"folds\"]) - self.fold_pos\n",
    "        if (n <= 0) or (n > max_n):\n",
    "            n = max_n\n",
    "        for i in range(self.fold_pos, self.fold_pos+n):\n",
    "            fold_func, axis = self.sheet_data[\"folds\"][i]\n",
    "            getattr(self, fold_func)(axis)\n",
    "            self.fold_pos += 1\n",
    "\n",
    "    def count_dots(self):\n",
    "        dot_counter = cl.Counter()\n",
    "        for row in self.sheet:\n",
    "            dot_counter.update(row)\n",
    "        return dot_counter[\"#\"]\n",
    "\n",
    "    def __repr__(self):\n",
    "        return \"\\n\".join(\"\".join(row) for row in self.sheet)"
   ]
  },
  {
   "cell_type": "code",
   "execution_count": 4,
   "id": "cf8a788c-9d5d-495c-b023-a7cd4c6e3245",
   "metadata": {},
   "outputs": [
    {
     "name": "stdout",
     "output_type": "stream",
     "text": [
      "Check part 1: True\n"
     ]
    }
   ],
   "source": [
    "sheet = Sheet(example_data)\n",
    "sheet.fold(1)\n",
    "print(f\"Check part 1: {sheet.count_dots() == 17}\")"
   ]
  },
  {
   "cell_type": "code",
   "execution_count": 5,
   "id": "2593b941-e671-43d7-b228-11d258dab359",
   "metadata": {},
   "outputs": [
    {
     "name": "stdout",
     "output_type": "stream",
     "text": [
      "Input check: True\n"
     ]
    }
   ],
   "source": [
    "with open(r\"..\\data\\Day 13 input.txt\", \"r\") as fh_in:\n",
    "    input_data = [line.strip() for line in fh_in]\n",
    "print(f\"Input check: {len(input_data) == 874}\")"
   ]
  },
  {
   "cell_type": "code",
   "execution_count": 6,
   "id": "f2fbf53d-a015-4ff6-81bc-8b22166348b2",
   "metadata": {},
   "outputs": [
    {
     "name": "stdout",
     "output_type": "stream",
     "text": [
      "Answer part 1: 716\n"
     ]
    }
   ],
   "source": [
    "sheet = Sheet(input_data)\n",
    "sheet.fold(1)\n",
    "print(f\"Answer part 1: {sheet.count_dots()}\")"
   ]
  },
  {
   "cell_type": "markdown",
   "id": "5810291d-528b-4edc-b11f-ed6a780bf598",
   "metadata": {},
   "source": [
    "## Part 2"
   ]
  },
  {
   "cell_type": "code",
   "execution_count": 7,
   "id": "3a4bc464-71f9-46ed-9735-dedcc0db5c70",
   "metadata": {},
   "outputs": [
    {
     "name": "stdout",
     "output_type": "stream",
     "text": [
      "Answer part 2:\n",
      "###  ###   ##  #  # #### ###  #    ###  \n",
      "#  # #  # #  # # #  #    #  # #    #  # \n",
      "#  # #  # #    ##   ###  ###  #    #  # \n",
      "###  ###  #    # #  #    #  # #    ###  \n",
      "# #  #    #  # # #  #    #  # #    # #  \n",
      "#  # #     ##  #  # #    ###  #### #  # \n"
     ]
    }
   ],
   "source": [
    "sheet = Sheet(input_data)\n",
    "sheet.fold()\n",
    "print(\"Answer part 2:\")\n",
    "print(\"\".join([\" \" if c == \".\" else c for c in repr(sheet)]))"
   ]
  },
  {
   "cell_type": "code",
   "execution_count": null,
   "id": "27a56aaa-fddc-49ec-9bde-8ec6277c2bbc",
   "metadata": {},
   "outputs": [],
   "source": []
  }
 ],
 "metadata": {
  "kernelspec": {
   "display_name": "Python 3 (ipykernel)",
   "language": "python",
   "name": "python3"
  },
  "language_info": {
   "codemirror_mode": {
    "name": "ipython",
    "version": 3
   },
   "file_extension": ".py",
   "mimetype": "text/x-python",
   "name": "python",
   "nbconvert_exporter": "python",
   "pygments_lexer": "ipython3",
   "version": "3.10.1"
  }
 },
 "nbformat": 4,
 "nbformat_minor": 5
}
