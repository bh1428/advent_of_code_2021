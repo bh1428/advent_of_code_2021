{
 "cells": [
  {
   "cell_type": "markdown",
   "id": "e43bb3dd-d23a-4965-9945-9fae92f9648a",
   "metadata": {},
   "source": [
    "# [Day 19: Beacon Scanner](https://adventofcode.com/2021/day/19)"
   ]
  },
  {
   "cell_type": "code",
   "execution_count": 1,
   "id": "d2c2581c-629a-4933-b834-b6178ae20406",
   "metadata": {},
   "outputs": [],
   "source": [
    "import collections as cl\n",
    "import functools as ft\n",
    "import itertools as it\n",
    "import re"
   ]
  },
  {
   "cell_type": "markdown",
   "id": "6873508b-4bb2-462f-a355-fb695b54099f",
   "metadata": {},
   "source": [
    "## Part 1"
   ]
  },
  {
   "cell_type": "code",
   "execution_count": 2,
   "id": "ee1b6696-b889-4a36-a0a5-71fd462543fa",
   "metadata": {},
   "outputs": [],
   "source": [
    "example_data = [\n",
    "    \"--- scanner 0 ---\",\n",
    "    \"404,-588,-901\",\n",
    "    \"528,-643,409\",\n",
    "    \"-838,591,734\",\n",
    "    \"390,-675,-793\",\n",
    "    \"-537,-823,-458\",\n",
    "    \"-485,-357,347\",\n",
    "    \"-345,-311,381\",\n",
    "    \"-661,-816,-575\",\n",
    "    \"-876,649,763\",\n",
    "    \"-618,-824,-621\",\n",
    "    \"553,345,-567\",\n",
    "    \"474,580,667\",\n",
    "    \"-447,-329,318\",\n",
    "    \"-584,868,-557\",\n",
    "    \"544,-627,-890\",\n",
    "    \"564,392,-477\",\n",
    "    \"455,729,728\",\n",
    "    \"-892,524,684\",\n",
    "    \"-689,845,-530\",\n",
    "    \"423,-701,434\",\n",
    "    \"7,-33,-71\",\n",
    "    \"630,319,-379\",\n",
    "    \"443,580,662\",\n",
    "    \"-789,900,-551\",\n",
    "    \"459,-707,401\",\n",
    "    \"\",\n",
    "    \"--- scanner 1 ---\",\n",
    "    \"686,422,578\",\n",
    "    \"605,423,415\",\n",
    "    \"515,917,-361\",\n",
    "    \"-336,658,858\",\n",
    "    \"95,138,22\",\n",
    "    \"-476,619,847\",\n",
    "    \"-340,-569,-846\",\n",
    "    \"567,-361,727\",\n",
    "    \"-460,603,-452\",\n",
    "    \"669,-402,600\",\n",
    "    \"729,430,532\",\n",
    "    \"-500,-761,534\",\n",
    "    \"-322,571,750\",\n",
    "    \"-466,-666,-811\",\n",
    "    \"-429,-592,574\",\n",
    "    \"-355,545,-477\",\n",
    "    \"703,-491,-529\",\n",
    "    \"-328,-685,520\",\n",
    "    \"413,935,-424\",\n",
    "    \"-391,539,-444\",\n",
    "    \"586,-435,557\",\n",
    "    \"-364,-763,-893\",\n",
    "    \"807,-499,-711\",\n",
    "    \"755,-354,-619\",\n",
    "    \"553,889,-390\",\n",
    "    \"\",\n",
    "    \"--- scanner 2 ---\",\n",
    "    \"649,640,665\",\n",
    "    \"682,-795,504\",\n",
    "    \"-784,533,-524\",\n",
    "    \"-644,584,-595\",\n",
    "    \"-588,-843,648\",\n",
    "    \"-30,6,44\",\n",
    "    \"-674,560,763\",\n",
    "    \"500,723,-460\",\n",
    "    \"609,671,-379\",\n",
    "    \"-555,-800,653\",\n",
    "    \"-675,-892,-343\",\n",
    "    \"697,-426,-610\",\n",
    "    \"578,704,681\",\n",
    "    \"493,664,-388\",\n",
    "    \"-671,-858,530\",\n",
    "    \"-667,343,800\",\n",
    "    \"571,-461,-707\",\n",
    "    \"-138,-166,112\",\n",
    "    \"-889,563,-600\",\n",
    "    \"646,-828,498\",\n",
    "    \"640,759,510\",\n",
    "    \"-630,509,768\",\n",
    "    \"-681,-892,-333\",\n",
    "    \"673,-379,-804\",\n",
    "    \"-742,-814,-386\",\n",
    "    \"577,-820,562\",\n",
    "    \"\",\n",
    "    \"--- scanner 3 ---\",\n",
    "    \"-589,542,597\",\n",
    "    \"605,-692,669\",\n",
    "    \"-500,565,-823\",\n",
    "    \"-660,373,557\",\n",
    "    \"-458,-679,-417\",\n",
    "    \"-488,449,543\",\n",
    "    \"-626,468,-788\",\n",
    "    \"338,-750,-386\",\n",
    "    \"528,-832,-391\",\n",
    "    \"562,-778,733\",\n",
    "    \"-938,-730,414\",\n",
    "    \"543,643,-506\",\n",
    "    \"-524,371,-870\",\n",
    "    \"407,773,750\",\n",
    "    \"-104,29,83\",\n",
    "    \"378,-903,-323\",\n",
    "    \"-778,-728,485\",\n",
    "    \"426,699,580\",\n",
    "    \"-438,-605,-362\",\n",
    "    \"-469,-447,-387\",\n",
    "    \"509,732,623\",\n",
    "    \"647,635,-688\",\n",
    "    \"-868,-804,481\",\n",
    "    \"614,-800,639\",\n",
    "    \"595,780,-596\",\n",
    "    \"\",\n",
    "    \"--- scanner 4 ---\",\n",
    "    \"727,592,562\",\n",
    "    \"-293,-554,779\",\n",
    "    \"441,611,-461\",\n",
    "    \"-714,465,-776\",\n",
    "    \"-743,427,-804\",\n",
    "    \"-660,-479,-426\",\n",
    "    \"832,-632,460\",\n",
    "    \"927,-485,-438\",\n",
    "    \"408,393,-506\",\n",
    "    \"466,436,-512\",\n",
    "    \"110,16,151\",\n",
    "    \"-258,-428,682\",\n",
    "    \"-393,719,612\",\n",
    "    \"-211,-452,876\",\n",
    "    \"808,-476,-593\",\n",
    "    \"-575,615,604\",\n",
    "    \"-485,667,467\",\n",
    "    \"-680,325,-822\",\n",
    "    \"-627,-443,-432\",\n",
    "    \"872,-547,-609\",\n",
    "    \"833,512,582\",\n",
    "    \"807,604,487\",\n",
    "    \"839,-516,451\",\n",
    "    \"891,-625,532\",\n",
    "    \"-652,-548,-490\",\n",
    "    \"30,-46,-14\",\n",
    "]"
   ]
  },
  {
   "cell_type": "code",
   "execution_count": 3,
   "id": "9a3a326e-8b3a-4f9f-a27b-fc5042beea13",
   "metadata": {},
   "outputs": [],
   "source": [
    "def parse_data(input_data):\n",
    "    re_header = re.compile(r\"^\\s*\\-\\-\\-\\s*scanner\\s*(?P<nr>\\d+)\\s*\\-\\-\\-\\s*$\", re.IGNORECASE)\n",
    "    data = {}\n",
    "    for line in input_data:\n",
    "        line = line.strip()\n",
    "        if mt_header := re_header.match(line):\n",
    "            nr = int(mt_header[\"nr\"])\n",
    "            data[nr] = []\n",
    "        elif line:\n",
    "            data[nr].append(tuple([int(c) for c in line.split(\",\")]))\n",
    "    return data"
   ]
  },
  {
   "cell_type": "code",
   "execution_count": 4,
   "id": "81de4702-aa11-4ba6-add1-8f98464f9b85",
   "metadata": {},
   "outputs": [],
   "source": [
    "@ft.cache\n",
    "def rotate(x, y, z, i):\n",
    "    rotations = (\n",
    "        (x, y, z),\n",
    "        (x, -z, y),\n",
    "        (x, -y, -z),\n",
    "        (x, z, -y),\n",
    "        (-x, y, -z),\n",
    "        (-x, z, y),\n",
    "        (-x, -y, z),\n",
    "        (-x, -z, -y),\n",
    "        (y, z, x),\n",
    "        (y, -x, z),\n",
    "        (y, -z, -x),\n",
    "        (y, x, -z),\n",
    "        (-y, z, -x),\n",
    "        (-y, x, z),\n",
    "        (-y, -z, x),\n",
    "        (-y, -x, -z),\n",
    "        (z, x, y),\n",
    "        (z, -y, x),\n",
    "        (z, -x, -y),\n",
    "        (z, y, -x),\n",
    "        (-z, x, -y),\n",
    "        (-z, y, x),\n",
    "        (-z, -x, y),\n",
    "        (-z, -y, -x),\n",
    "    )\n",
    "    return rotations[i]"
   ]
  },
  {
   "cell_type": "code",
   "execution_count": 5,
   "id": "82e809c3-b92c-4fb3-bf68-b7107cd964ca",
   "metadata": {},
   "outputs": [],
   "source": [
    "def remap_scanners(scanner_data):\n",
    "    # use first scanner as base / anchor\n",
    "    base_scanner_nr = list(scanner_data.keys())[0]\n",
    "    known_scanners = { base_scanner_nr: (0, 0, 0) }\n",
    "    beacons_per_scanner = { base_scanner_nr: scanner_data[base_scanner_nr] }\n",
    "    all_beacons = set(scanner_data[base_scanner_nr])\n",
    "\n",
    "    # match all other scanners against known scanners\n",
    "    unknown_scanners = cl.deque(list(scanner_data.keys())[1:])\n",
    "    while unknown_scanners:\n",
    "        # work on next unknown scanner\n",
    "        found_match = False\n",
    "        current_scanner = unknown_scanners.popleft()\n",
    "        for known_scanner in list(known_scanners.keys()):\n",
    "            # compare it against all known scanners\n",
    "            for rotation in range(24):\n",
    "                # Using every possible rotation,\n",
    "                distances = cl.defaultdict(int)\n",
    "                for kx, ky, kz in beacons_per_scanner[known_scanner]:\n",
    "                    # get all distances between all beacons (known and unknown)\n",
    "                    for sx, sy, sz in scanner_data[current_scanner]:\n",
    "                        sx, sy, sz = rotate(sx, sy, sz, rotation)\n",
    "                        deltas = kx-sx, ky-sy, kz-sz\n",
    "                        distances[deltas] += 1\n",
    "                # if we have a match: we have at least 12 items with the same x, y and z distance\n",
    "                for (dx, dy, dz), count in distances.items():\n",
    "                    if count >= 12:\n",
    "                        # match: remap scanner and its beacons\n",
    "                        found_match = True\n",
    "                        known_scanners[current_scanner] = (dx, dy, dz)\n",
    "                        beacons_per_scanner[current_scanner] = []\n",
    "                        for sx, sy, sz in scanner_data[current_scanner]:\n",
    "                            sx, sy, sz = rotate(sx, sy, sz, rotation)\n",
    "                            beacon = (sx+dx, sy+dy, sz+dz)\n",
    "                            beacons_per_scanner[current_scanner].append(beacon)\n",
    "                            all_beacons.add(beacon)\n",
    "                        break\n",
    "                if found_match:\n",
    "                    # exit rotation loop\n",
    "                    break\n",
    "            if found_match:\n",
    "                break  # exit known_scanner loop\n",
    "        else:\n",
    "            # no early exit -> no match with a known scanner\n",
    "            # keep current scanner and repeat later (when we know more scanners)\n",
    "            unknown_scanners.append(current_scanner)\n",
    "\n",
    "    return known_scanners, beacons_per_scanner, all_beacons"
   ]
  },
  {
   "cell_type": "code",
   "execution_count": 6,
   "id": "cfd6b211-4da4-421f-bdd5-9c1919c5aec9",
   "metadata": {},
   "outputs": [
    {
     "name": "stdout",
     "output_type": "stream",
     "text": [
      "Wall time: 124 ms\n"
     ]
    }
   ],
   "source": [
    "%%time\n",
    "known_scanners, beacons_per_scanner, all_beacons = remap_scanners(parse_data(example_data))"
   ]
  },
  {
   "cell_type": "code",
   "execution_count": 7,
   "id": "a44dff72-eddc-48f3-87ef-e9ba07071fbb",
   "metadata": {},
   "outputs": [
    {
     "name": "stdout",
     "output_type": "stream",
     "text": [
      "Check part 1: True\n"
     ]
    }
   ],
   "source": [
    "print(f\"Check part 1: {len(all_beacons) == 79}\")"
   ]
  },
  {
   "cell_type": "code",
   "execution_count": 8,
   "id": "1344123e-fd6a-420c-955f-f8c16d3054ae",
   "metadata": {},
   "outputs": [
    {
     "name": "stdout",
     "output_type": "stream",
     "text": [
      "Input check: True\n"
     ]
    }
   ],
   "source": [
    "with open(r\"..\\data\\Day 19 input.txt\", \"r\") as fh_in:\n",
    "    input_data = [row.strip() for row in fh_in.readlines()]\n",
    "print(f\"Input check: {len(input_data) == 1060}\")"
   ]
  },
  {
   "cell_type": "code",
   "execution_count": 9,
   "id": "c725d99c-bf15-4d9b-8519-d6b3ef791f2c",
   "metadata": {},
   "outputs": [
    {
     "name": "stdout",
     "output_type": "stream",
     "text": [
      "Answer part 1: 472\n",
      "Wall time: 13.6 s\n"
     ]
    }
   ],
   "source": [
    "%%time\n",
    "known_scanners, beacons_per_scanner, all_beacons = remap_scanners(parse_data(input_data))\n",
    "print(f\"Answer part 1: {len(all_beacons)}\")"
   ]
  },
  {
   "cell_type": "markdown",
   "id": "6a9b19ca-e6d8-4cbd-b6f9-f1c2496dc0aa",
   "metadata": {},
   "source": [
    "## Part 2"
   ]
  },
  {
   "cell_type": "code",
   "execution_count": 10,
   "id": "8e204370-17f2-4465-9d3b-c4bd126f0dd4",
   "metadata": {},
   "outputs": [],
   "source": [
    "def manhattan_distance(p1, p2):\n",
    "    return sum([abs(left-right) for left, right in zip(p1, p2)])"
   ]
  },
  {
   "cell_type": "code",
   "execution_count": 11,
   "id": "ef953dbc-bc74-45ec-8e9e-af23fdcd73d5",
   "metadata": {},
   "outputs": [
    {
     "name": "stdout",
     "output_type": "stream",
     "text": [
      "Answer part 2: 12092\n",
      "Wall time: 2 ms\n"
     ]
    }
   ],
   "source": [
    "%%time\n",
    "\n",
    "# slightly inefficient, but don't optimize prematurely...\n",
    "max_distance = 0\n",
    "for scanner1, scanner2 in it.permutations(known_scanners.keys(), 2):\n",
    "    distance = manhattan_distance(known_scanners[scanner1], known_scanners[scanner2])\n",
    "    if distance > max_distance:\n",
    "        max_distance = distance\n",
    "\n",
    "print(f\"Answer part 2: {max_distance}\")"
   ]
  },
  {
   "cell_type": "code",
   "execution_count": null,
   "id": "3a979cb7-c7dd-4820-8f48-660527715b59",
   "metadata": {},
   "outputs": [],
   "source": []
  }
 ],
 "metadata": {
  "kernelspec": {
   "display_name": "Python 3 (ipykernel)",
   "language": "python",
   "name": "python3"
  },
  "language_info": {
   "codemirror_mode": {
    "name": "ipython",
    "version": 3
   },
   "file_extension": ".py",
   "mimetype": "text/x-python",
   "name": "python",
   "nbconvert_exporter": "python",
   "pygments_lexer": "ipython3",
   "version": "3.10.1"
  }
 },
 "nbformat": 4,
 "nbformat_minor": 5
}
