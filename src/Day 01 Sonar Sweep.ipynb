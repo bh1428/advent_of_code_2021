{
 "cells": [
  {
   "cell_type": "markdown",
   "id": "a2935bad-28f3-423f-a9ce-323e7e27df9d",
   "metadata": {},
   "source": [
    "# [Day 1: Sonar Sweep](https://adventofcode.com/2021/day/1)"
   ]
  },
  {
   "cell_type": "markdown",
   "id": "769c3c62-eb89-440b-a32b-c762f617d042",
   "metadata": {},
   "source": [
    "## Part 1"
   ]
  },
  {
   "cell_type": "code",
   "execution_count": 1,
   "id": "e9bf1dfe-2410-4824-918e-31a6ee7f697b",
   "metadata": {},
   "outputs": [],
   "source": [
    "example_data = [199, 200, 208, 210, 200, 207, 240, 269, 260, 263]"
   ]
  },
  {
   "cell_type": "code",
   "execution_count": 2,
   "id": "df7decd2-0717-4751-97f7-9bd36459c4a5",
   "metadata": {},
   "outputs": [],
   "source": [
    "def get_n_higher(measurements):\n",
    "    prev_measurement = measurements[0]\n",
    "    n_higher = 0\n",
    "    for measurement in measurements[1:]:\n",
    "        if prev_measurement < measurement:\n",
    "            n_higher += 1\n",
    "        prev_measurement = measurement\n",
    "\n",
    "    return n_higher"
   ]
  },
  {
   "cell_type": "code",
   "execution_count": 3,
   "id": "58ca65a3-4fac-45e1-9710-1e9f669630cb",
   "metadata": {},
   "outputs": [
    {
     "name": "stdout",
     "output_type": "stream",
     "text": [
      "Check part 1: True\n"
     ]
    }
   ],
   "source": [
    "print(f\"Check part 1: {get_n_higher(example_data) == 7}\")"
   ]
  },
  {
   "cell_type": "code",
   "execution_count": 4,
   "id": "6ab09d93-5c9d-4916-8545-c860481b0b30",
   "metadata": {},
   "outputs": [
    {
     "name": "stdout",
     "output_type": "stream",
     "text": [
      "Input line check: True\n"
     ]
    }
   ],
   "source": [
    "with open(r\"..\\data\\Day 01 input.txt\", \"r\") as fh_in:\n",
    "    measurements = [int(line.strip()) for line in fh_in if line.strip()]\n",
    "print(f\"Input line check: {len(measurements) == 2000}\")"
   ]
  },
  {
   "cell_type": "code",
   "execution_count": 5,
   "id": "93027dc2-89db-4b99-a77a-8a612cf94da6",
   "metadata": {},
   "outputs": [
    {
     "name": "stdout",
     "output_type": "stream",
     "text": [
      "Answer part 1: 1681\n"
     ]
    }
   ],
   "source": [
    "print(f\"Answer part 1: {get_n_higher(measurements)}\")"
   ]
  },
  {
   "cell_type": "markdown",
   "id": "2f94297c-6531-4bef-8712-b99789af915c",
   "metadata": {},
   "source": [
    "## Part 2"
   ]
  },
  {
   "cell_type": "code",
   "execution_count": 6,
   "id": "1650f388-40a6-4d86-94fb-1a5e0a1d1f3c",
   "metadata": {},
   "outputs": [],
   "source": [
    "def get_n_higher_windowed(measurements, window_size=3):\n",
    "    prev_sum = sum(measurements[0:window_size])\n",
    "    n_higher = 0\n",
    "    for window_end in range(window_size + 1, len(measurements) + 1):\n",
    "        window_start = window_end - window_size\n",
    "        new_sum = sum(measurements[window_start:window_end])\n",
    "        if prev_sum < new_sum:\n",
    "            n_higher += 1\n",
    "        prev_sum = new_sum\n",
    "\n",
    "    return n_higher"
   ]
  },
  {
   "cell_type": "code",
   "execution_count": 7,
   "id": "133cb76e-6556-494c-a360-3e9a19355529",
   "metadata": {},
   "outputs": [
    {
     "name": "stdout",
     "output_type": "stream",
     "text": [
      "Check part 2: True\n"
     ]
    }
   ],
   "source": [
    "print(f\"Check part 2: {get_n_higher_windowed(example_data) == 5}\")"
   ]
  },
  {
   "cell_type": "code",
   "execution_count": 8,
   "id": "7406a486-28d7-4c1e-9426-72bdeddb7942",
   "metadata": {},
   "outputs": [
    {
     "name": "stdout",
     "output_type": "stream",
     "text": [
      "Answer part 2: 1704\n"
     ]
    }
   ],
   "source": [
    "print(f\"Answer part 2: {get_n_higher_windowed(measurements)}\")"
   ]
  },
  {
   "cell_type": "code",
   "execution_count": null,
   "id": "1c279fc1-8163-4eb9-9d44-47090e76f9cd",
   "metadata": {},
   "outputs": [],
   "source": []
  }
 ],
 "metadata": {
  "kernelspec": {
   "display_name": "Python 3 (ipykernel)",
   "language": "python",
   "name": "python3"
  },
  "language_info": {
   "codemirror_mode": {
    "name": "ipython",
    "version": 3
   },
   "file_extension": ".py",
   "mimetype": "text/x-python",
   "name": "python",
   "nbconvert_exporter": "python",
   "pygments_lexer": "ipython3",
   "version": "3.10.0"
  }
 },
 "nbformat": 4,
 "nbformat_minor": 5
}
