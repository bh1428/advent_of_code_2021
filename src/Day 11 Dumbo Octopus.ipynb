{
 "cells": [
  {
   "cell_type": "markdown",
   "id": "e43bb3dd-d23a-4965-9945-9fae92f9648a",
   "metadata": {},
   "source": [
    "# [Day 11: Dumbo Octopus](https://adventofcode.com/2021/day/11)"
   ]
  },
  {
   "cell_type": "markdown",
   "id": "90cab8b4-70fd-4c01-b5ed-aebc3765f5ff",
   "metadata": {},
   "source": [
    "## Part 1"
   ]
  },
  {
   "cell_type": "code",
   "execution_count": 1,
   "id": "c66a24cf-7d1f-46a2-9e4b-7295e8437c04",
   "metadata": {},
   "outputs": [],
   "source": [
    "example_data = [\n",
    "    \"5483143223\",\n",
    "    \"2745854711\",\n",
    "    \"5264556173\",\n",
    "    \"6141336146\",\n",
    "    \"6357385478\",\n",
    "    \"4167524645\",\n",
    "    \"2176841721\",\n",
    "    \"6882881134\",\n",
    "    \"4846848554\",\n",
    "    \"5283751526\",\n",
    "]\n",
    "\n",
    "example_after_100_steps = [\n",
    "    \"0397666866\",\n",
    "    \"0749766918\",\n",
    "    \"0053976933\",\n",
    "    \"0004297822\",\n",
    "    \"0004229892\",\n",
    "    \"0053222877\",\n",
    "    \"0532222966\",\n",
    "    \"9322228966\",\n",
    "    \"7922286866\",\n",
    "    \"6789998766\",\n",
    "]"
   ]
  },
  {
   "cell_type": "code",
   "execution_count": 2,
   "id": "6e2e4d59-23a0-48aa-86e3-89dc8955fed5",
   "metadata": {},
   "outputs": [],
   "source": [
    "import dataclasses as dc\n",
    "\n",
    "@dc.dataclass\n",
    "class Octopus:\n",
    "    energy: int\n",
    "    has_flashed: bool = False\n",
    "    \n",
    "    def increase_energy(self):\n",
    "        if (not self.has_flashed):\n",
    "            self.energy += 1\n",
    "    \n",
    "    def flash_or_not(self):\n",
    "        if (not self.has_flashed) and (self.energy > 9):\n",
    "            self.has_flashed = True\n",
    "            self.energy = 0\n",
    "            return 1\n",
    "        else:\n",
    "            return 0\n",
    "\n",
    "    def end_step(self):\n",
    "        if self.has_flashed:\n",
    "            self.has_flashed = False\n",
    "\n",
    "class Cavern1:\n",
    "    def __init__(self, energy_states):\n",
    "        self.grid = []\n",
    "        for row in energy_states:\n",
    "            grid_row = []\n",
    "            for energy in row:\n",
    "                grid_row.append(Octopus(int(energy)))\n",
    "            self.grid.append(grid_row)\n",
    "        self.max_y = len(self.grid) - 1\n",
    "        self.max_x = len(self.grid[0]) - 1\n",
    "        self.step = 0\n",
    "        self.flashes = 0\n",
    "    \n",
    "    def radiate(self, x, y):\n",
    "        for ny in range(y-1, y+2):\n",
    "            for nx in range(x-1, x+2):\n",
    "                if (0 <= ny <= self.max_y) and (0 <= nx <= self.max_x) and not((nx == x) and (ny == y)):\n",
    "                    self.grid[ny][nx].increase_energy()\n",
    "    \n",
    "    def next_step(self, n=1):\n",
    "        for step in range(0, n):\n",
    "            # increase energy\n",
    "            for row in self.grid:\n",
    "                for octopus in row:\n",
    "                    octopus.increase_energy()\n",
    "\n",
    "            # flash until no more flashes fired\n",
    "            flashes = 0\n",
    "            not_done = True\n",
    "            while not_done:\n",
    "                not_done = False\n",
    "                for y, row in enumerate(self.grid):\n",
    "                    for x, octopus in enumerate(row):\n",
    "                        flash = octopus.flash_or_not()\n",
    "                        if flash:\n",
    "                            flashes += flash\n",
    "                            self.radiate(x, y)\n",
    "                            not_done = True\n",
    "            self.flashes += flashes\n",
    "\n",
    "            # end step\n",
    "            for row in self.grid:\n",
    "                for octopus in row:\n",
    "                    octopus.end_step()\n",
    "            self.step += 1\n",
    "\n",
    "    def get_grid(self):\n",
    "        grid_strings = []\n",
    "        for row in self.grid:\n",
    "            grid_strings.append(\"\".join([f\"{octopus.energy:x}\"[-1:] for octopus in row]))\n",
    "        return grid_strings\n",
    "            \n",
    "    def __repr__(self):\n",
    "        return \"\\n\".join(self.get_grid())"
   ]
  },
  {
   "cell_type": "code",
   "execution_count": 3,
   "id": "b0b6c967-091a-4547-8a01-e3e39034afd7",
   "metadata": {},
   "outputs": [
    {
     "name": "stdout",
     "output_type": "stream",
     "text": [
      "Check part 1 (flashes): True\n",
      "Check part 1 (grid): True\n"
     ]
    }
   ],
   "source": [
    "cavern = Cavern1(example_data)\n",
    "cavern.next_step(100)\n",
    "print(f\"Check part 1 (flashes): {cavern.flashes == 1656}\")\n",
    "print(f\"Check part 1 (grid): {cavern.get_grid() == example_after_100_steps}\")"
   ]
  },
  {
   "cell_type": "code",
   "execution_count": 4,
   "id": "2593b941-e671-43d7-b228-11d258dab359",
   "metadata": {},
   "outputs": [
    {
     "name": "stdout",
     "output_type": "stream",
     "text": [
      "Input check: True\n"
     ]
    }
   ],
   "source": [
    "with open(r\"..\\data\\Day 11 input.txt\", \"r\") as fh_in:\n",
    "    input_data = [line.strip() for line in fh_in]\n",
    "print(f\"Input check: {len(input_data) == 10}\")"
   ]
  },
  {
   "cell_type": "code",
   "execution_count": 5,
   "id": "a1c907e0-61bb-4df4-b4af-d6fac5ae7cfd",
   "metadata": {},
   "outputs": [
    {
     "name": "stdout",
     "output_type": "stream",
     "text": [
      "Answer part 1: 1723\n"
     ]
    }
   ],
   "source": [
    "cavern = Cavern1(input_data)\n",
    "cavern.next_step(100)\n",
    "print(f\"Answer part 1: {cavern.flashes}\")"
   ]
  },
  {
   "cell_type": "markdown",
   "id": "5810291d-528b-4edc-b11f-ed6a780bf598",
   "metadata": {},
   "source": [
    "## Part 2"
   ]
  },
  {
   "cell_type": "code",
   "execution_count": 6,
   "id": "cd1662d3-ef08-4dc3-ad66-c91e3d4e4747",
   "metadata": {},
   "outputs": [],
   "source": [
    "class Cavern2(Cavern1):\n",
    "    def all_have_flashed(self):\n",
    "        for row in self.grid:\n",
    "            for octopus in row:\n",
    "                if octopus.energy != 0:\n",
    "                    break\n",
    "            else:\n",
    "                continue\n",
    "            break\n",
    "        else:\n",
    "            return True\n",
    "        return False"
   ]
  },
  {
   "cell_type": "code",
   "execution_count": 7,
   "id": "99ab280e-e577-477d-93fd-44b5aa15e395",
   "metadata": {},
   "outputs": [
    {
     "name": "stdout",
     "output_type": "stream",
     "text": [
      "Answer part 2: 327\n"
     ]
    }
   ],
   "source": [
    "cavern = Cavern2(input_data)\n",
    "for step in range(1000):\n",
    "    cavern.next_step()\n",
    "    if cavern.all_have_flashed():\n",
    "        print(f\"Answer part 2: {cavern.step}\")\n",
    "        break"
   ]
  },
  {
   "cell_type": "code",
   "execution_count": null,
   "id": "84792a96-cee5-41d7-921f-fe8de54bdff5",
   "metadata": {},
   "outputs": [],
   "source": []
  }
 ],
 "metadata": {
  "kernelspec": {
   "display_name": "Python 3 (ipykernel)",
   "language": "python",
   "name": "python3"
  },
  "language_info": {
   "codemirror_mode": {
    "name": "ipython",
    "version": 3
   },
   "file_extension": ".py",
   "mimetype": "text/x-python",
   "name": "python",
   "nbconvert_exporter": "python",
   "pygments_lexer": "ipython3",
   "version": "3.10.1"
  }
 },
 "nbformat": 4,
 "nbformat_minor": 5
}
