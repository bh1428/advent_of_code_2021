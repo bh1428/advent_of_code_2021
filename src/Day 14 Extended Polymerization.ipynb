{
 "cells": [
  {
   "cell_type": "markdown",
   "id": "e43bb3dd-d23a-4965-9945-9fae92f9648a",
   "metadata": {},
   "source": [
    "# [Day 14: Extended Polymerization](https://adventofcode.com/2021/day/14)"
   ]
  },
  {
   "cell_type": "code",
   "execution_count": 1,
   "id": "5b0f0384-fc3c-459b-bf1b-2b8a2dd17a16",
   "metadata": {},
   "outputs": [],
   "source": [
    "import collections as cl"
   ]
  },
  {
   "cell_type": "markdown",
   "id": "4a0e7528-f417-4842-8161-9b818dc4569a",
   "metadata": {},
   "source": [
    "## Part 1"
   ]
  },
  {
   "cell_type": "code",
   "execution_count": 2,
   "id": "0e2c95d3-e369-43ae-ae18-b15dcb4989a2",
   "metadata": {},
   "outputs": [],
   "source": [
    "example_data = [\n",
    "    \"NNCB\",\n",
    "    \"\",\n",
    "    \"CH -> B\",\n",
    "    \"HH -> N\",\n",
    "    \"CB -> H\",\n",
    "    \"NH -> C\",\n",
    "    \"HB -> C\",\n",
    "    \"HC -> B\",\n",
    "    \"HN -> C\",\n",
    "    \"NN -> C\",\n",
    "    \"BH -> H\",\n",
    "    \"NC -> B\",\n",
    "    \"NB -> B\",\n",
    "    \"BN -> B\",\n",
    "    \"BB -> N\",\n",
    "    \"BC -> B\",\n",
    "    \"CC -> N\",\n",
    "    \"CN -> C\",\n",
    "]"
   ]
  },
  {
   "cell_type": "code",
   "execution_count": 3,
   "id": "f79dada0-c097-48db-87ab-f21ad62ac48f",
   "metadata": {},
   "outputs": [],
   "source": [
    "def parse_blueprint(blueprint):\n",
    "    template = blueprint[0]\n",
    "    mapping = {}\n",
    "    for instruction in blueprint[2:]:\n",
    "        from_pair, _, insert_letter = instruction.split(\" \")\n",
    "        mapping[from_pair] = (from_pair[0] + insert_letter, insert_letter + from_pair[1])\n",
    "    return template, mapping\n",
    "\n",
    "\n",
    "def polymerize(blueprint, steps):\n",
    "    template, mapping = parse_blueprint(blueprint)\n",
    "    \n",
    "    # generate initial pair count\n",
    "    pairs_count = cl.defaultdict(int)\n",
    "    for i in range(len(template)-1):\n",
    "        pairs_count[template[i:i+2]] += 1\n",
    "    \n",
    "    # produce steps\n",
    "    for step in range(steps):\n",
    "        new_pair_counts = cl.defaultdict(int)\n",
    "        for pair, n in pairs_count.items():\n",
    "            for i in (0, 1):\n",
    "                new_pair_counts[mapping[pair][i]] += n\n",
    "        pairs_count = new_pair_counts\n",
    "    \n",
    "    # calculate totals\n",
    "    totals = cl.defaultdict(int)\n",
    "    for pair, n in pairs_count.items():\n",
    "        totals[pair[0]] += n\n",
    "    totals[template[-1]] += 1\n",
    "    return max(totals.values()) - min(totals.values())"
   ]
  },
  {
   "cell_type": "code",
   "execution_count": 4,
   "id": "29265585-1abc-44c4-b79d-96fd5ed4d279",
   "metadata": {},
   "outputs": [
    {
     "name": "stdout",
     "output_type": "stream",
     "text": [
      "Check part 1: True\n"
     ]
    }
   ],
   "source": [
    "print(f\"Check part 1: {polymerize(example_data, 10) == 1588}\")"
   ]
  },
  {
   "cell_type": "code",
   "execution_count": 5,
   "id": "b3bce85e-0c71-4cff-9a97-ddb23f50c7fb",
   "metadata": {},
   "outputs": [
    {
     "name": "stdout",
     "output_type": "stream",
     "text": [
      "Input check: True\n"
     ]
    }
   ],
   "source": [
    "with open(r\"..\\data\\Day 14 input.txt\", \"r\") as fh_in:\n",
    "    input_data = [line.strip() for line in fh_in]\n",
    "print(f\"Input check: {len(input_data) == 102}\")"
   ]
  },
  {
   "cell_type": "code",
   "execution_count": 6,
   "id": "0fc81d94-b80f-4aa4-9c5a-fdaff1bcc999",
   "metadata": {},
   "outputs": [
    {
     "name": "stdout",
     "output_type": "stream",
     "text": [
      "Answer part 1: 2223\n"
     ]
    }
   ],
   "source": [
    "print(f\"Answer part 1: {polymerize(input_data, 10)}\")"
   ]
  },
  {
   "cell_type": "markdown",
   "id": "5810291d-528b-4edc-b11f-ed6a780bf598",
   "metadata": {},
   "source": [
    "## Part 2"
   ]
  },
  {
   "cell_type": "code",
   "execution_count": 7,
   "id": "27a56aaa-fddc-49ec-9bde-8ec6277c2bbc",
   "metadata": {},
   "outputs": [
    {
     "name": "stdout",
     "output_type": "stream",
     "text": [
      "Check part 1 (40 steps): True\n"
     ]
    }
   ],
   "source": [
    "print(f\"Check part 1 (40 steps): {polymerize(example_data, 40) == 2188189693529}\")"
   ]
  },
  {
   "cell_type": "code",
   "execution_count": 8,
   "id": "77b45b3f-e9d6-4c35-9144-1861aa4afc0f",
   "metadata": {},
   "outputs": [
    {
     "name": "stdout",
     "output_type": "stream",
     "text": [
      "Answer part 2: 2566282754493\n"
     ]
    }
   ],
   "source": [
    "print(f\"Answer part 2: {polymerize(input_data, 40)}\")"
   ]
  },
  {
   "cell_type": "code",
   "execution_count": null,
   "id": "fd67fdcf-85a0-4bf1-b55c-7f3830ae55bc",
   "metadata": {},
   "outputs": [],
   "source": []
  }
 ],
 "metadata": {
  "kernelspec": {
   "display_name": "Python 3 (ipykernel)",
   "language": "python",
   "name": "python3"
  },
  "language_info": {
   "codemirror_mode": {
    "name": "ipython",
    "version": 3
   },
   "file_extension": ".py",
   "mimetype": "text/x-python",
   "name": "python",
   "nbconvert_exporter": "python",
   "pygments_lexer": "ipython3",
   "version": "3.10.1"
  }
 },
 "nbformat": 4,
 "nbformat_minor": 5
}
