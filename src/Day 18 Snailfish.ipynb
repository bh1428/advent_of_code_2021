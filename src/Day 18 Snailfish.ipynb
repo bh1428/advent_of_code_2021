{
 "cells": [
  {
   "cell_type": "markdown",
   "id": "e43bb3dd-d23a-4965-9945-9fae92f9648a",
   "metadata": {},
   "source": [
    "# [Day 18: Snailfish](https://adventofcode.com/2021/day/18)"
   ]
  },
  {
   "cell_type": "code",
   "execution_count": 1,
   "id": "69d9add0-8a12-414f-bad2-20d230d08820",
   "metadata": {},
   "outputs": [],
   "source": [
    "import typing as tp"
   ]
  },
  {
   "cell_type": "markdown",
   "id": "6873508b-4bb2-462f-a355-fb695b54099f",
   "metadata": {},
   "source": [
    "## Part 1"
   ]
  },
  {
   "cell_type": "code",
   "execution_count": 2,
   "id": "19907b19-eb8f-4443-8fe1-8a96ec17144c",
   "metadata": {},
   "outputs": [],
   "source": [
    "def parse(number: str) -> list[tp.Union[str, int]]:\n",
    "    num_lst = []\n",
    "    read_int = False\n",
    "    an_int = 0\n",
    "    for c in \"\".join(number.split()):\n",
    "        if '0' <= c <= '9':\n",
    "            read_int = True\n",
    "            an_int = 10 * an_int + int(c)\n",
    "            continue\n",
    "        elif read_int:\n",
    "            num_lst.append(an_int)\n",
    "            read_int = False\n",
    "            an_int = 0\n",
    "        num_lst.append(c)\n",
    "    return num_lst\n",
    "\n",
    "\n",
    "def explode(num_lst: list[tp.Union[str, int]], explode_level: int = 5) -> list[tp.Union[str, int]]:\n",
    "    result = []\n",
    "    i, level, last_int = 0, 0, -1\n",
    "    while i < len(num_lst):\n",
    "        n = num_lst[i]\n",
    "        # keep track of level\n",
    "        if n == \"[\":\n",
    "            level += 1\n",
    "        elif n == \"]\":\n",
    "            level -= 1\n",
    "\n",
    "        # explode when explode level reached\n",
    "        if level >= explode_level:\n",
    "            # a pair of two num_lsts (integers) will be next: (left, right)\n",
    "            left, right = num_lst[i+1], num_lst[i+3]\n",
    "            # left may (or may not) go to the left\n",
    "            if last_int > 0:\n",
    "                result[last_int] = result[last_int] + left\n",
    "            # replace (left, right) the exploded pair by a zero (0)\n",
    "            result.append(0)\n",
    "            # right may (or may not) go to the right\n",
    "            for j in range(i+5, len(num_lst)):\n",
    "                n = num_lst[j]\n",
    "                if isinstance(n, int):\n",
    "                    # integer: it goes to the right\n",
    "                    n += right\n",
    "                    result.append(n)\n",
    "                    # copy the rest and then we're done\n",
    "                    result.extend(num_lst[j+1:])\n",
    "                    break\n",
    "                else:\n",
    "                    # not integer: just copy\n",
    "                    result.append(n)\n",
    "            # done with the while loop\n",
    "            break\n",
    "        else:\n",
    "            # no explode action so far: just copy\n",
    "            result.append(n)\n",
    "            # and keep track of last integer\n",
    "            if isinstance(n, int):\n",
    "                last_int = i\n",
    "        i += 1\n",
    "\n",
    "    return result\n",
    "\n",
    "\n",
    "def split(num_lst: list[tp.Union[str, int]], split_limit: int=10) -> list[tp.Union[str, int]]:\n",
    "    result = []\n",
    "    i = 0\n",
    "    while i < len(num_lst):\n",
    "        n = num_lst[i]\n",
    "        if isinstance(n, int) and (n >= split_limit):\n",
    "            result.extend([\"[\", n // 2, \",\", (n + 1) // 2, \"]\"])\n",
    "            result.extend(num_lst[i+1:])\n",
    "            break\n",
    "        else:\n",
    "            result.append(n)\n",
    "        i += 1\n",
    "    return result\n",
    "\n",
    "\n",
    "def reduce(num_lst: list[tp.Union[str, int]]) -> list[tp.Union[str, int]]:\n",
    "    before = num_lst\n",
    "    while True:\n",
    "        after = explode(before)\n",
    "        if before == after:\n",
    "            after = split(before)\n",
    "            if before == after:\n",
    "                break\n",
    "        before = after\n",
    "    return after\n",
    "\n",
    "\n",
    "def add(*numbers: str) -> str:\n",
    "    sub_result = parse(numbers[0])\n",
    "    for number in numbers[1:]:\n",
    "        sub_result = reduce([\"[\", *sub_result, \",\", *parse(number), \"]\"])\n",
    "    return \"\".join(map(str, sub_result))\n",
    "\n",
    "\n",
    "def magnitude(number: str) -> int:\n",
    "    num_lst = parse(number)\n",
    "    changes = True\n",
    "    while changes:\n",
    "        changes = False\n",
    "        for i, c in enumerate(num_lst):\n",
    "            if (c == \",\") and isinstance(num_lst[i-1], int) and isinstance(num_lst[i+1], int):\n",
    "                magnitude = num_lst[i-1] * 3 + num_lst[i+1] * 2\n",
    "                num_lst = num_lst[:i-2] + [magnitude] + num_lst[i+3:]\n",
    "                changes = True\n",
    "                break\n",
    "    return num_lst[0]"
   ]
  },
  {
   "cell_type": "code",
   "execution_count": 3,
   "id": "1b1c9f69-82b2-4827-ac34-059e1e9e1e6b",
   "metadata": {},
   "outputs": [],
   "source": [
    "single_explode_examples = (\n",
    "    (\"[[[[[9,8],1],2],3],4]\", \"[[[[0,9],2],3],4]\"),\n",
    "    (\"[7,[6,[5,[4,[3,2]]]]]\", \"[7,[6,[5,[7,0]]]]\"),\n",
    "    (\"[[6,[5,[4,[3,2]]]],1]\", \"[[6,[5,[7,0]]],3]\"),\n",
    "    (\"[[3,[2,[1,[7,3]]]],[6,[5,[4,[3,2]]]]]\", \"[[3,[2,[8,0]]],[9,[5,[4,[3,2]]]]]\"),\n",
    "    (\"[[3,[2,[8,0]]],[9,[5,[4,[3,2]]]]]\", \"[[3,[2,[8,0]]],[9,[5,[7,0]]]]\"),\n",
    ")"
   ]
  },
  {
   "cell_type": "code",
   "execution_count": 4,
   "id": "913a5d07-5b17-4fd0-b9ff-9e8a235c3c69",
   "metadata": {},
   "outputs": [
    {
     "name": "stdout",
     "output_type": "stream",
     "text": [
      "Check Check part 1 (explode ('[[[[[9,8],1],2],3],4]')): True\n",
      "Check Check part 1 (explode ('[7,[6,[5,[4,[3,2]]]]]')): True\n",
      "Check Check part 1 (explode ('[[6,[5,[4,[3,2]]]],1]')): True\n",
      "Check Check part 1 (explode ('[[3,[2,[1,[7,3]]]],[6,[5,[4,[3,2]]]]]')): True\n",
      "Check Check part 1 (explode ('[[3,[2,[8,0]]],[9,[5,[4,[3,2]]]]]')): True\n"
     ]
    }
   ],
   "source": [
    "for number, expected in single_explode_examples:\n",
    "    print(f\"Check Check part 1 (explode ({number!r})): {expected == ''.join(map(str, explode(parse(number))))}\")"
   ]
  },
  {
   "cell_type": "code",
   "execution_count": 5,
   "id": "5cb08985-e4a4-42de-9d9a-3eba5e0e85c6",
   "metadata": {},
   "outputs": [
    {
     "name": "stdout",
     "output_type": "stream",
     "text": [
      "Check part 1 (add with reduce (1)): True\n",
      "Check part 1 (add with reduce (2)): True\n",
      "Check part 1 (add with reduce (3)): True\n",
      "Check part 1 (add with reduce (4)): True\n"
     ]
    }
   ],
   "source": [
    "add_examples = {\n",
    "    1: (\n",
    "        (\"[[[[4,3],4],4],[7,[[8,4],9]]]\", \"[1,1]\"),\n",
    "        \"[[[[0,7],4],[[7,8],[6,0]]],[8,1]]\",\n",
    "    ),\n",
    "    2: (\n",
    "        (\"[1,1]\", \"[2,2]\", \"[3,3]\", \"[4,4]\"),\n",
    "        \"[[[[1,1],[2,2]],[3,3]],[4,4]]\",\n",
    "    ),\n",
    "    3: (\n",
    "        (\"[1,1]\", \"[2,2]\", \"[3,3]\", \"[4,4]\", \"[5,5]\"),\n",
    "        \"[[[[3,0],[5,3]],[4,4]],[5,5]]\",\n",
    "    ),\n",
    "    4: (\n",
    "        (\"[1,1]\", \"[2,2]\", \"[3,3]\", \"[4,4]\", \"[5,5]\", \"[6,6]\"),\n",
    "        \"[[[[5,0],[7,4]],[5,5]],[6,6]]\",\n",
    "    ),\n",
    "}\n",
    "\n",
    "for i, testcase in add_examples.items():\n",
    "    terms, expected = testcase\n",
    "    print(f\"Check part 1 (add with reduce ({i})): {expected == add(*terms)}\")"
   ]
  },
  {
   "cell_type": "code",
   "execution_count": 6,
   "id": "a26c0318-c2ba-41ec-a075-0cc517c99630",
   "metadata": {},
   "outputs": [
    {
     "name": "stdout",
     "output_type": "stream",
     "text": [
      "Check part 1 (large example): True\n"
     ]
    }
   ],
   "source": [
    "large_example = {\n",
    "    \"numbers\": (\n",
    "        \"[[[0,[4,5]],[0,0]],[[[4,5],[2,6]],[9,5]]]\",\n",
    "        \"[7,[[[3,7],[4,3]],[[6,3],[8,8]]]]\",\n",
    "        \"[[2,[[0,8],[3,4]]],[[[6,7],1],[7,[1,6]]]]\",\n",
    "        \"[[[[2,4],7],[6,[0,5]]],[[[6,8],[2,8]],[[2,1],[4,5]]]]\",\n",
    "        \"[7,[5,[[3,8],[1,4]]]]\",\n",
    "        \"[[2,[2,2]],[8,[8,1]]]\",\n",
    "        \"[2,9]\",\n",
    "        \"[1,[[[9,3],9],[[9,0],[0,7]]]]\",\n",
    "        \"[[[5,[7,4]],7],1]\",\n",
    "        \"[[[[4,2],2],6],[8,7]]\",\n",
    "    ),\n",
    "    \"expected\": \"[[[[8,7],[7,7]],[[8,6],[7,7]]],[[[0,7],[6,6]],[8,7]]]\",\n",
    "}\n",
    "\n",
    "print(f\"Check part 1 (large example): {large_example['expected'] == add(*large_example['numbers'])}\")"
   ]
  },
  {
   "cell_type": "code",
   "execution_count": 7,
   "id": "5fef9a3e-71df-4e9d-b311-f48089d22c79",
   "metadata": {},
   "outputs": [
    {
     "name": "stdout",
     "output_type": "stream",
     "text": [
      "Check part 1 (magnitude): True\n"
     ]
    }
   ],
   "source": [
    "print(f\"Check part 1 (magnitude): {magnitude('[[[[6,6],[7,6]],[[7,7],[7,0]]],[[[7,7],[7,7]],[[7,8],[9,9]]]]') == 4140}\")"
   ]
  },
  {
   "cell_type": "code",
   "execution_count": 8,
   "id": "2264bee6-0dcf-4b88-804f-77229f79105b",
   "metadata": {},
   "outputs": [
    {
     "name": "stdout",
     "output_type": "stream",
     "text": [
      "Input check: True\n"
     ]
    }
   ],
   "source": [
    "with open(r\"..\\data\\Day 18 input.txt\", \"r\") as fh_in:\n",
    "    input_data = [row.strip() for row in fh_in.readlines()]\n",
    "print(f\"Input check: {len(input_data) == 100}\")"
   ]
  },
  {
   "cell_type": "code",
   "execution_count": 9,
   "id": "83b471ef-3bea-402f-82a7-a001e148a814",
   "metadata": {},
   "outputs": [
    {
     "name": "stdout",
     "output_type": "stream",
     "text": [
      "Answer part 1: 3691\n"
     ]
    }
   ],
   "source": [
    "print(f\"Answer part 1: {magnitude(add(*input_data))}\")"
   ]
  },
  {
   "cell_type": "markdown",
   "id": "5810291d-528b-4edc-b11f-ed6a780bf598",
   "metadata": {},
   "source": [
    "## Part 2"
   ]
  },
  {
   "cell_type": "code",
   "execution_count": 10,
   "id": "a1d125a5-ace3-4af0-a55b-5278378b562d",
   "metadata": {},
   "outputs": [],
   "source": [
    "def part2(input_data):\n",
    "    max_magnitude = 0\n",
    "    for i, left_number in enumerate(input_data):\n",
    "        for right_number in input_data[i+1:]:\n",
    "            this_magnitude = magnitude(add(left_number, right_number))\n",
    "            if this_magnitude > max_magnitude:\n",
    "                max_magnitude = this_magnitude\n",
    "            this_magnitude = magnitude(add(right_number, left_number))\n",
    "            if this_magnitude > max_magnitude:\n",
    "                max_magnitude = this_magnitude\n",
    "    return max_magnitude"
   ]
  },
  {
   "cell_type": "code",
   "execution_count": 11,
   "id": "e4633efc-df58-4ee8-a67b-9128a1d34d01",
   "metadata": {},
   "outputs": [
    {
     "name": "stdout",
     "output_type": "stream",
     "text": [
      "Answer part 2: 4756\n"
     ]
    }
   ],
   "source": [
    "print(f\"Answer part 2: {part2(input_data)}\")"
   ]
  }
 ],
 "metadata": {
  "kernelspec": {
   "display_name": "Python 3 (ipykernel)",
   "language": "python",
   "name": "python3"
  },
  "language_info": {
   "codemirror_mode": {
    "name": "ipython",
    "version": 3
   },
   "file_extension": ".py",
   "mimetype": "text/x-python",
   "name": "python",
   "nbconvert_exporter": "python",
   "pygments_lexer": "ipython3",
   "version": "3.10.1"
  }
 },
 "nbformat": 4,
 "nbformat_minor": 5
}
