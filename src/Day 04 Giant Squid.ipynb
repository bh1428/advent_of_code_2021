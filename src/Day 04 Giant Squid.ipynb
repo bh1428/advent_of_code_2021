{
 "cells": [
  {
   "cell_type": "markdown",
   "id": "52aef38c-6bd5-4377-b5fb-7ea2d1e71b28",
   "metadata": {},
   "source": [
    "# [Day 4: Giant Squid](https://adventofcode.com/2021/day/4)"
   ]
  },
  {
   "cell_type": "code",
   "execution_count": 1,
   "id": "83186768-405e-4463-8b30-e10955887834",
   "metadata": {},
   "outputs": [],
   "source": [
    "import dataclasses as dc"
   ]
  },
  {
   "cell_type": "markdown",
   "id": "90cab8b4-70fd-4c01-b5ed-aebc3765f5ff",
   "metadata": {},
   "source": [
    "## Part 1"
   ]
  },
  {
   "cell_type": "code",
   "execution_count": 2,
   "id": "5dd452fb-0d22-4d11-b35b-fb757b962703",
   "metadata": {},
   "outputs": [],
   "source": [
    "example_data = [\n",
    "    \"7,4,9,5,11,17,23,2,0,14,21,24,10,16,13,6,15,25,12,22,18,20,8,19,3,26,1\",\n",
    "    \"\",\n",
    "    \"22 13 17 11  0\",\n",
    "    \" 8  2 23  4 24\",\n",
    "    \"21  9 14 16  7\",\n",
    "    \" 6 10  3 18  5\",\n",
    "    \" 1 12 20 15 19\",\n",
    "    \"\",\n",
    "    \" 3 15  0  2 22\",\n",
    "    \" 9 18 13 17  5\",\n",
    "    \"19  8  7 25 23\",\n",
    "    \"20 11 10 24  4\",\n",
    "    \"14 21 16 12  6\",\n",
    "    \"\",\n",
    "    \"14 21 17 24  4\",\n",
    "    \"10 16 15  9 19\",\n",
    "    \"18  8 23 26 20\",\n",
    "    \"22 11 13  6  5\",\n",
    "    \" 2  0 12  3  7\",\n",
    "]"
   ]
  },
  {
   "cell_type": "code",
   "execution_count": 3,
   "id": "c7aed14f-e73c-472c-8865-f44279d62bc4",
   "metadata": {},
   "outputs": [],
   "source": [
    "@dc.dataclass\n",
    "class Number:\n",
    "    value: int\n",
    "    marked: int = 0\n",
    "\n",
    "\n",
    "@dc.dataclass\n",
    "class Board:\n",
    "    board: list[Number] = dc.field(default_factory=list)\n",
    "\n",
    "    def add_row(self, row):\n",
    "        self.board.append([Number(int(v)) for v in row])\n",
    "\n",
    "    def is_valid(self):\n",
    "        return len(self.board) > 0\n",
    "\n",
    "    def mark(self, number):\n",
    "        for row in self.board:\n",
    "            for col in row:\n",
    "                if col.value == number:\n",
    "                    col.marked = 1\n",
    "\n",
    "    def is_winner(self):\n",
    "        cols_marked_sums = [0] * len(self.board[0])\n",
    "        for row in self.board:\n",
    "            # horizontal\n",
    "            rows_marked = sum([col.marked for col in row])\n",
    "            if rows_marked == len(row):\n",
    "                return True\n",
    "            # vertical\n",
    "            for i, col in enumerate(row):\n",
    "                cols_marked_sums[i] += col.marked\n",
    "        # no winning row, check for winning column\n",
    "        for cols_marked_sum in cols_marked_sums:\n",
    "            if cols_marked_sum == len(self.board):\n",
    "                return True\n",
    "        return False\n",
    "\n",
    "    def score(self, number):\n",
    "        sum_unmarked = 0\n",
    "        for row in self.board:\n",
    "            for col in row:\n",
    "                if not col.marked:\n",
    "                    sum_unmarked += col.value\n",
    "        return sum_unmarked * number\n",
    "\n",
    "\n",
    "class Game1:\n",
    "    def __init__(self, game_data):\n",
    "        self.numbers = [int(v) for v in game_data[0].split(\",\")]\n",
    "        self.boards = []\n",
    "        current_board = Board()\n",
    "        for line in game_data[1:]:\n",
    "            line = line.strip().split()\n",
    "            if line:\n",
    "                current_board.add_row(line)\n",
    "            else:\n",
    "                if current_board.is_valid():\n",
    "                    self.boards.append(current_board)\n",
    "                current_board = Board()\n",
    "        if current_board.is_valid():\n",
    "            self.boards.append(current_board)\n",
    "\n",
    "    def play_first_win(self):\n",
    "        for number in self.numbers:\n",
    "            for board in self.boards:\n",
    "                board.mark(number)\n",
    "                if board.is_winner():\n",
    "                    return board.score(number)\n",
    "        return None\n"
   ]
  },
  {
   "cell_type": "code",
   "execution_count": 4,
   "id": "39f63f9a-6a2a-4b84-bc08-063eff1d4866",
   "metadata": {},
   "outputs": [
    {
     "name": "stdout",
     "output_type": "stream",
     "text": [
      "Check part 1 numbers: True\n",
      "Check part 1 boards: True\n",
      "Check part 1: True\n"
     ]
    }
   ],
   "source": [
    "game = Game1(example_data)\n",
    "print(f\"Check part 1 numbers: {len(game.numbers) == 27}\")\n",
    "print(f\"Check part 1 boards: {len(game.boards) == 3}\")\n",
    "print(f\"Check part 1: {game.play_first_win() == 4512}\")"
   ]
  },
  {
   "cell_type": "code",
   "execution_count": 5,
   "id": "98945f45-e1d3-418a-a7e0-101c9467a69c",
   "metadata": {},
   "outputs": [],
   "source": [
    "with open(r\"..\\data\\Day 04 input.txt\", \"r\") as fh_in:\n",
    "    game_data = fh_in.readlines()"
   ]
  },
  {
   "cell_type": "code",
   "execution_count": 6,
   "id": "e8956ef0-743d-4a75-abf3-23c3e8a06f0a",
   "metadata": {},
   "outputs": [
    {
     "name": "stdout",
     "output_type": "stream",
     "text": [
      "Answer part 1 check numbers: True\n",
      "Answer part 1 check boards: True\n",
      "Answer part 1: 44736\n"
     ]
    }
   ],
   "source": [
    "game = Game1(game_data)\n",
    "print(f\"Answer part 1 check numbers: {len(game.numbers) == 100}\")\n",
    "print(f\"Answer part 1 check boards: {len(game.boards) == 100}\")\n",
    "print(f\"Answer part 1: {game.play_first_win()}\")"
   ]
  },
  {
   "cell_type": "markdown",
   "id": "5810291d-528b-4edc-b11f-ed6a780bf598",
   "metadata": {},
   "source": [
    "## Part 2"
   ]
  },
  {
   "cell_type": "code",
   "execution_count": 7,
   "id": "c2e6b05f-47f2-4e2d-8a59-2bdc6b9ba32d",
   "metadata": {},
   "outputs": [],
   "source": [
    "class Game2(Game1):\n",
    "    def play_last_win(self):\n",
    "        for number in self.numbers:\n",
    "            for i in range(len(self.boards) - 1, -1, -1):\n",
    "                self.boards[i].mark(number)\n",
    "                if self.boards[i].is_winner():\n",
    "                    board_score = self.boards[i].score(number)\n",
    "                    del self.boards[i]\n",
    "            if not self.boards:\n",
    "                # no more boards: last winner\n",
    "                return board_score\n",
    "        return None"
   ]
  },
  {
   "cell_type": "code",
   "execution_count": 8,
   "id": "566380bd-aec5-4253-8de2-69ee4c3ab449",
   "metadata": {},
   "outputs": [
    {
     "name": "stdout",
     "output_type": "stream",
     "text": [
      "Check part 2: True\n"
     ]
    }
   ],
   "source": [
    "game = Game2(example_data)\n",
    "print(f\"Check part 2: {game.play_last_win() == 1924}\")"
   ]
  },
  {
   "cell_type": "code",
   "execution_count": 9,
   "id": "bb75df4e-f9a9-4e02-93d7-a4c7efa1f4c6",
   "metadata": {},
   "outputs": [
    {
     "name": "stdout",
     "output_type": "stream",
     "text": [
      "Answer part 2: 1827\n"
     ]
    }
   ],
   "source": [
    "game = Game2(game_data)\n",
    "print(f\"Answer part 2: {game.play_last_win()}\")"
   ]
  },
  {
   "cell_type": "code",
   "execution_count": null,
   "id": "db46cd66-acdc-4add-93df-305f8e8cfb09",
   "metadata": {},
   "outputs": [],
   "source": []
  }
 ],
 "metadata": {
  "kernelspec": {
   "display_name": "Python 3 (ipykernel)",
   "language": "python",
   "name": "python3"
  },
  "language_info": {
   "codemirror_mode": {
    "name": "ipython",
    "version": 3
   },
   "file_extension": ".py",
   "mimetype": "text/x-python",
   "name": "python",
   "nbconvert_exporter": "python",
   "pygments_lexer": "ipython3",
   "version": "3.10.0"
  }
 },
 "nbformat": 4,
 "nbformat_minor": 5
}
