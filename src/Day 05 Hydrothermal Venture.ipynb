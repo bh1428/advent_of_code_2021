{
 "cells": [
  {
   "cell_type": "markdown",
   "id": "52aef38c-6bd5-4377-b5fb-7ea2d1e71b28",
   "metadata": {},
   "source": [
    "# [Day 5: Hydrothermal Venture](https://adventofcode.com/2021/day/5)"
   ]
  },
  {
   "cell_type": "code",
   "execution_count": 1,
   "id": "83186768-405e-4463-8b30-e10955887834",
   "metadata": {},
   "outputs": [],
   "source": [
    "import collections as cl\n",
    "import dataclasses as dc\n",
    "import re"
   ]
  },
  {
   "cell_type": "markdown",
   "id": "90cab8b4-70fd-4c01-b5ed-aebc3765f5ff",
   "metadata": {},
   "source": [
    "## Part 1"
   ]
  },
  {
   "cell_type": "code",
   "execution_count": 2,
   "id": "5dd452fb-0d22-4d11-b35b-fb757b962703",
   "metadata": {},
   "outputs": [],
   "source": [
    "example_data = [\n",
    "    \"0,9 -> 5,9\",\n",
    "    \"8,0 -> 0,8\",\n",
    "    \"9,4 -> 3,4\",\n",
    "    \"2,2 -> 2,1\",\n",
    "    \"7,0 -> 7,4\",\n",
    "    \"6,4 -> 2,0\",\n",
    "    \"0,9 -> 2,9\",\n",
    "    \"3,4 -> 1,4\",\n",
    "    \"0,0 -> 8,8\",\n",
    "    \"5,5 -> 8,2\",\n",
    "]"
   ]
  },
  {
   "cell_type": "code",
   "execution_count": 3,
   "id": "c7aed14f-e73c-472c-8865-f44279d62bc4",
   "metadata": {},
   "outputs": [
    {
     "name": "stdout",
     "output_type": "stream",
     "text": [
      "Check parse_line (valid): True\n",
      "Check parse_line (invalid): True\n"
     ]
    }
   ],
   "source": [
    "@dc.dataclass\n",
    "class Line:\n",
    "    x1: int\n",
    "    y1: int\n",
    "    x2: int\n",
    "    y2: int\n",
    "\n",
    "    @staticmethod\n",
    "    def parse_line(line):\n",
    "        if mt_line := re.match(r\"^\\s*(\\d+)\\s*\\,\\s*(\\d+)\\s*\\-\\>\\s*(\\d+)\\s*\\,\\s*(\\d+)\\s*$\", line):\n",
    "            return Line(*map(int, mt_line.groups()))\n",
    "\n",
    "print(f\"Check parse_line (valid): {Line.parse_line(example_data[0]) == Line(0, 9, 5, 9)}\")\n",
    "print(f\"Check parse_line (invalid): {Line.parse_line('no line') is None}\")"
   ]
  },
  {
   "cell_type": "code",
   "execution_count": 4,
   "id": "2ac86a78",
   "metadata": {},
   "outputs": [],
   "source": [
    "def default_zero_dict():\n",
    "    return cl.defaultdict(int)\n",
    "\n",
    "@dc.dataclass\n",
    "class Diagram1:\n",
    "    data: cl.defaultdict = dc.field(default_factory=default_zero_dict)\n",
    "\n",
    "    def _plot_line(self, line, diagonal=False):\n",
    "        x, y = line.x1, line.y1\n",
    "        delta_x = 0 if x == line.x2 else 1 if x < line.x2 else -1\n",
    "        delta_y = 0 if y == line.y2 else 1 if y < line.y2 else -1\n",
    "        if (not diagonal) and ((abs(delta_x) + abs(delta_y)) > 1):\n",
    "            return\n",
    "        while True:\n",
    "            self.data[(x, y)] += 1\n",
    "            if (x == line.x2) and (y == line.y2): break\n",
    "            x += delta_x\n",
    "            y += delta_y\n",
    "\n",
    "    def add_line(self, line_text):\n",
    "        line = Line.parse_line(line_text)\n",
    "        if line is not None:\n",
    "            self._plot_line(line)\n",
    "\n",
    "    def process_lines(self, line_data):\n",
    "        for line in line_data:\n",
    "            self.add_line(line)\n",
    "\n",
    "    def get_at_least_n_overlap(self, n):\n",
    "        cnt = cl.Counter(self.data.values())\n",
    "        return sum([count for key, count in cnt.items() if key >= n])"
   ]
  },
  {
   "cell_type": "code",
   "execution_count": 5,
   "id": "56480762-f508-4856-bfc7-22a86c4f1fa9",
   "metadata": {},
   "outputs": [
    {
     "name": "stdout",
     "output_type": "stream",
     "text": [
      "Check part 1: True\n"
     ]
    }
   ],
   "source": [
    "diagram = Diagram1()\n",
    "diagram.process_lines(example_data)\n",
    "print(f\"Check part 1: {diagram.get_at_least_n_overlap(2) == 5}\")"
   ]
  },
  {
   "cell_type": "code",
   "execution_count": 6,
   "id": "98945f45-e1d3-418a-a7e0-101c9467a69c",
   "metadata": {},
   "outputs": [
    {
     "name": "stdout",
     "output_type": "stream",
     "text": [
      "Input line check: True\n"
     ]
    }
   ],
   "source": [
    "with open(r\"..\\data\\Day 05 input.txt\", \"r\") as fh_in:\n",
    "    line_data = fh_in.readlines()\n",
    "print(f\"Input line check: {len(line_data) == 500}\")"
   ]
  },
  {
   "cell_type": "code",
   "execution_count": 7,
   "id": "e8956ef0-743d-4a75-abf3-23c3e8a06f0a",
   "metadata": {},
   "outputs": [
    {
     "name": "stdout",
     "output_type": "stream",
     "text": [
      "Answer part 1: 4993\n"
     ]
    }
   ],
   "source": [
    "diagram = Diagram1()\n",
    "diagram.process_lines(line_data)\n",
    "print(f\"Answer part 1: {diagram.get_at_least_n_overlap(2)}\")"
   ]
  },
  {
   "cell_type": "markdown",
   "id": "5810291d-528b-4edc-b11f-ed6a780bf598",
   "metadata": {},
   "source": [
    "## Part 2"
   ]
  },
  {
   "cell_type": "code",
   "execution_count": 8,
   "id": "c2e6b05f-47f2-4e2d-8a59-2bdc6b9ba32d",
   "metadata": {},
   "outputs": [],
   "source": [
    "@dc.dataclass\n",
    "class Diagram2(Diagram1):\n",
    "    def _plot_line(self, line, diagonal=True):\n",
    "        super()._plot_line(line, diagonal)"
   ]
  },
  {
   "cell_type": "code",
   "execution_count": 9,
   "id": "db46cd66-acdc-4add-93df-305f8e8cfb09",
   "metadata": {},
   "outputs": [
    {
     "name": "stdout",
     "output_type": "stream",
     "text": [
      "Check part 2: True\n"
     ]
    }
   ],
   "source": [
    "diagram = Diagram2()\n",
    "diagram.process_lines(example_data)\n",
    "print(f\"Check part 2: {diagram.get_at_least_n_overlap(2) == 12}\")"
   ]
  },
  {
   "cell_type": "code",
   "execution_count": 10,
   "id": "b6cf91fc",
   "metadata": {},
   "outputs": [
    {
     "name": "stdout",
     "output_type": "stream",
     "text": [
      "Answer part 2: 21101\n"
     ]
    }
   ],
   "source": [
    "diagram = Diagram2()\n",
    "diagram.process_lines(line_data)\n",
    "print(f\"Answer part 2: {diagram.get_at_least_n_overlap(2)}\")"
   ]
  },
  {
   "cell_type": "code",
   "execution_count": null,
   "id": "f1b532b1-b23b-4a69-96c6-27c29744f2d8",
   "metadata": {},
   "outputs": [],
   "source": []
  }
 ],
 "metadata": {
  "kernelspec": {
   "display_name": "Python 3 (ipykernel)",
   "language": "python",
   "name": "python3"
  },
  "language_info": {
   "codemirror_mode": {
    "name": "ipython",
    "version": 3
   },
   "file_extension": ".py",
   "mimetype": "text/x-python",
   "name": "python",
   "nbconvert_exporter": "python",
   "pygments_lexer": "ipython3",
   "version": "3.10.0"
  }
 },
 "nbformat": 4,
 "nbformat_minor": 5
}
