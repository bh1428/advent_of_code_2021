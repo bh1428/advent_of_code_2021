{
 "cells": [
  {
   "cell_type": "markdown",
   "id": "52aef38c-6bd5-4377-b5fb-7ea2d1e71b28",
   "metadata": {},
   "source": [
    "# [Day 5: Hydrothermal Venture](https://adventofcode.com/2021/day/5)"
   ]
  },
  {
   "cell_type": "code",
   "execution_count": 1,
   "id": "83186768-405e-4463-8b30-e10955887834",
   "metadata": {},
   "outputs": [],
   "source": [
    "import collections as cl\n",
    "import dataclasses as dc\n",
    "import re"
   ]
  },
  {
   "cell_type": "markdown",
   "id": "90cab8b4-70fd-4c01-b5ed-aebc3765f5ff",
   "metadata": {},
   "source": [
    "## Part 1"
   ]
  },
  {
   "cell_type": "code",
   "execution_count": 2,
   "id": "5dd452fb-0d22-4d11-b35b-fb757b962703",
   "metadata": {},
   "outputs": [],
   "source": [
    "example_data = [\n",
    "    \"0,9 -> 5,9\",\n",
    "    \"8,0 -> 0,8\",\n",
    "    \"9,4 -> 3,4\",\n",
    "    \"2,2 -> 2,1\",\n",
    "    \"7,0 -> 7,4\",\n",
    "    \"6,4 -> 2,0\",\n",
    "    \"0,9 -> 2,9\",\n",
    "    \"3,4 -> 1,4\",\n",
    "    \"0,0 -> 8,8\",\n",
    "    \"5,5 -> 8,2\",\n",
    "]"
   ]
  },
  {
   "cell_type": "markdown",
   "id": "b25e1b18",
   "metadata": {},
   "source": [
    "```\n",
    "  0123456789\n",
    "0 .......1..\n",
    "1 ..1....1..\n",
    "2 ..1....1..\n",
    "3 .......1..\n",
    "4 .112111211\n",
    "5 ..........\n",
    "6 ..........\n",
    "7 ..........\n",
    "8 ..........\n",
    "9 222111....\n",
    "```\n",
    "\n",
    "\"0,9 -> 5,9\": column 0, row 9 -> column 5, row 9\n",
    "  * x = columns\n",
    "  * y = rows"
   ]
  },
  {
   "cell_type": "code",
   "execution_count": 3,
   "id": "c7aed14f-e73c-472c-8865-f44279d62bc4",
   "metadata": {},
   "outputs": [
    {
     "name": "stdout",
     "output_type": "stream",
     "text": [
      "Check parse_line (valid): True\n",
      "Check parse_line (invalid): True\n"
     ]
    }
   ],
   "source": [
    "@dc.dataclass\n",
    "class Line:\n",
    "    x1: int\n",
    "    y1: int\n",
    "    x2: int\n",
    "    y2: int\n",
    "\n",
    "RE_LINE = re.compile(r\"^\\s*(?P<x1>\\d+)\\s*\\,\\s*(?P<y1>\\d+)\\s*\\-\\>\\s*(?P<x2>\\d+)\\s*\\,\\s*(?P<y2>\\d+)\\s*$\")\n",
    "def parse_line(line):\n",
    "    if mt_line := RE_LINE.match(line):\n",
    "        return Line(int(mt_line[\"x1\"]), int(mt_line[\"y1\"]), int(mt_line[\"x2\"]), int(mt_line[\"y2\"]))\n",
    "\n",
    "print(f\"Check parse_line (valid): {parse_line(example_data[0]) == Line(0, 9, 5, 9)}\")\n",
    "print(f\"Check parse_line (invalid): {parse_line('no line') is None}\")\n"
   ]
  },
  {
   "cell_type": "code",
   "execution_count": 4,
   "metadata": {},
   "outputs": [],
   "source": [
    "@dc.dataclass\n",
    "class Diagram1:\n",
    "    data: list[list[int]] = dc.field(default_factory=list)  # x=rows, y=columns\n",
    "\n",
    "    def __post_init__(self):\n",
    "        self.data = [[0]]\n",
    "\n",
    "    def _resize_data(self, max_x, max_y):\n",
    "        min_x_size = max_x + 1\n",
    "        min_y_size = max_y + 1\n",
    "        if len(self.data[0]) < min_x_size:\n",
    "            addition = min_x_size - len(self.data[0])\n",
    "            for row in self.data:\n",
    "                row.extend([0] * addition)\n",
    "        if len(self.data) < min_y_size:\n",
    "            for _ in range(len(self.data), min_y_size):\n",
    "                self.data.append([0] * len(self.data[0]))\n",
    "\n",
    "    def add_line(self, line_text):\n",
    "        line = parse_line(line_text)\n",
    "        if line:\n",
    "            self._resize_data(line.x1, line.y1)\n",
    "            self._resize_data(line.x2, line.y2)\n",
    "            x_delta = line.x2 - line.x1\n",
    "            y_delta = line.y2 - line.y1\n",
    "            if (x_delta != 0) and (y_delta == 0):\n",
    "                for x in range(min(line.x1, line.x2), max(line.x1, line.x2)+1):\n",
    "                    self.data[line.y1][x] += 1\n",
    "            elif (y_delta != 0) and (x_delta == 0):\n",
    "                for y in range(min(line.y1, line.y2), max(line.y1, line.y2)+1):\n",
    "                    self.data[y][line.x1] += 1\n",
    "\n",
    "    def get_at_least_n_overlap(self, n):\n",
    "        cnt = cl.Counter()\n",
    "        for row in self.data:\n",
    "            cnt.update(row)\n",
    "        result = 0\n",
    "        for n_cnt, num in cnt.items():\n",
    "            if n_cnt >= n:\n",
    "                result += num\n",
    "        return result"
   ]
  },
  {
   "cell_type": "code",
   "execution_count": 5,
   "id": "5356693f",
   "metadata": {},
   "outputs": [
    {
     "name": "stdout",
     "output_type": "stream",
     "text": [
      "Check part 1: True\n"
     ]
    }
   ],
   "source": [
    "diagram = Diagram1()\n",
    "for line_text in example_data:\n",
    "    diagram.add_line(line_text)\n",
    "print(f\"Check part 1: {diagram.get_at_least_n_overlap(2) == 5}\")"
   ]
  },
  {
   "cell_type": "code",
   "execution_count": 6,
   "id": "98945f45-e1d3-418a-a7e0-101c9467a69c",
   "metadata": {},
   "outputs": [
    {
     "name": "stdout",
     "output_type": "stream",
     "text": [
      "Input line check: True\n"
     ]
    }
   ],
   "source": [
    "with open(r\"..\\data\\Day 05 input.txt\", \"r\") as fh_in:\n",
    "    line_data = fh_in.readlines()\n",
    "print(f\"Input line check: {len(line_data) == 500}\")"
   ]
  },
  {
   "cell_type": "code",
   "execution_count": 7,
   "id": "e8956ef0-743d-4a75-abf3-23c3e8a06f0a",
   "metadata": {},
   "outputs": [
    {
     "name": "stdout",
     "output_type": "stream",
     "text": [
      "Answer part 1: 4993\n"
     ]
    }
   ],
   "source": [
    "diagram = Diagram1()\n",
    "for line_text in line_data:\n",
    "    diagram.add_line(line_text)\n",
    "print(f\"Answer part 1: {diagram.get_at_least_n_overlap(2)}\")"
   ]
  },
  {
   "cell_type": "markdown",
   "id": "5810291d-528b-4edc-b11f-ed6a780bf598",
   "metadata": {},
   "source": [
    "## Part 2"
   ]
  },
  {
   "cell_type": "code",
   "execution_count": 8,
   "id": "c2e6b05f-47f2-4e2d-8a59-2bdc6b9ba32d",
   "metadata": {},
   "outputs": [],
   "source": [
    "@dc.dataclass\n",
    "class Diagram2(Diagram1):\n",
    "    def add_line(self, line_text):\n",
    "        line = parse_line(line_text)\n",
    "        if line:\n",
    "            self._resize_data(line.x1, line.y1)\n",
    "            self._resize_data(line.x2, line.y2)\n",
    "            x, y = line.x1, line.y1\n",
    "            while True:\n",
    "                self.data[y][x] += 1\n",
    "                if (x == line.x2) and (y == line.y2):\n",
    "                    break\n",
    "                if x != line.x2:\n",
    "                    if x < line.x2:\n",
    "                        x += 1\n",
    "                    else:\n",
    "                        x -= 1\n",
    "                if y != line.y2:\n",
    "                    if y <= line.y2:\n",
    "                        y += 1\n",
    "                    else:\n",
    "                        y -= 1\n"
   ]
  },
  {
   "cell_type": "code",
   "execution_count": 9,
   "id": "db46cd66-acdc-4add-93df-305f8e8cfb09",
   "metadata": {},
   "outputs": [
    {
     "name": "stdout",
     "output_type": "stream",
     "text": [
      "Check part 1: True\n"
     ]
    }
   ],
   "source": [
    "diagram = Diagram2()\n",
    "for line_text in example_data:\n",
    "    diagram.add_line(line_text)\n",
    "print(f\"Check part 1: {diagram.get_at_least_n_overlap(2) == 12}\")"
   ]
  },
  {
   "cell_type": "code",
   "execution_count": 10,
   "id": "b6cf91fc",
   "metadata": {},
   "outputs": [
    {
     "name": "stdout",
     "output_type": "stream",
     "text": [
      "Answer part 2: 21101\n"
     ]
    }
   ],
   "source": [
    "diagram = Diagram2()\n",
    "for line_text in line_data:\n",
    "    diagram.add_line(line_text)\n",
    "print(f\"Answer part 2: {diagram.get_at_least_n_overlap(2)}\")"
   ]
  },
  {
   "cell_type": "code",
   "execution_count": null,
   "id": "dfe6896b",
   "metadata": {},
   "outputs": [],
   "source": []
  }
 ],
 "metadata": {
  "kernelspec": {
   "display_name": "Python 3 (ipykernel)",
   "language": "python",
   "name": "python3"
  },
  "language_info": {
   "codemirror_mode": {
    "name": "ipython",
    "version": 3
   },
   "file_extension": ".py",
   "mimetype": "text/x-python",
   "name": "python",
   "nbconvert_exporter": "python",
   "pygments_lexer": "ipython3",
   "version": "3.10.0"
  }
 },
 "nbformat": 4,
 "nbformat_minor": 5
}
