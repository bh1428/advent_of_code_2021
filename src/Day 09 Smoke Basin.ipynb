{
 "cells": [
  {
   "cell_type": "markdown",
   "id": "e43bb3dd-d23a-4965-9945-9fae92f9648a",
   "metadata": {},
   "source": [
    "# [Day 9: Smoke Basin](https://adventofcode.com/2021/day/9)"
   ]
  },
  {
   "cell_type": "markdown",
   "id": "90cab8b4-70fd-4c01-b5ed-aebc3765f5ff",
   "metadata": {},
   "source": [
    "## Part 1"
   ]
  },
  {
   "cell_type": "code",
   "execution_count": 1,
   "id": "5dd452fb-0d22-4d11-b35b-fb757b962703",
   "metadata": {},
   "outputs": [],
   "source": [
    "example_data = [\n",
    "    \"2199943210\",\n",
    "    \"3987894921\",\n",
    "    \"9856789892\",\n",
    "    \"8767896789\",\n",
    "    \"9899965678\",\n",
    "]"
   ]
  },
  {
   "cell_type": "code",
   "execution_count": 2,
   "id": "f92c6a45-c3ae-44c9-8392-343f5774241b",
   "metadata": {},
   "outputs": [],
   "source": [
    "class HeightMap:\n",
    "    def __init__(self, heightmap):\n",
    "        width = len(heightmap[0])\n",
    "        prepared_data = [[9, *map(int, row), 9] for row in heightmap]\n",
    "        self.map = [[9] * (width + 2), *prepared_data, [9] * (width + 2)]\n",
    "        self._low_points = None\n",
    "\n",
    "    def neighbours(self, row, col):\n",
    "        return ((row-1, col), (row, col-1), (row, col+1), (row+1, col))\n",
    "\n",
    "    @property\n",
    "    def low_points(self):\n",
    "        if self._low_points is None:\n",
    "            self._low_points = []\n",
    "            for row in range(1, len(self.map)-1):\n",
    "                for col in range(1, len(self.map[0])-1):\n",
    "                    height = self.map[row][col]\n",
    "                    if all([height < self.map[r][c] for r, c in self.neighbours(row, col)]):\n",
    "                        self._low_points.append((row, col))\n",
    "        return self._low_points"
   ]
  },
  {
   "cell_type": "code",
   "execution_count": 3,
   "id": "fcef8995-f595-42b4-8925-47dcb11474ba",
   "metadata": {},
   "outputs": [],
   "source": [
    "class HeightMap1(HeightMap):\n",
    "    def calc_risk_level(self):\n",
    "        risk_level = 0\n",
    "        for row, col in self.low_points:\n",
    "            risk_level += self.map[row][col] + 1\n",
    "        return risk_level"
   ]
  },
  {
   "cell_type": "code",
   "execution_count": 4,
   "id": "3224279f-144c-4713-a945-be0fa4ef4cd6",
   "metadata": {},
   "outputs": [
    {
     "name": "stdout",
     "output_type": "stream",
     "text": [
      "Check part 1: True\n"
     ]
    }
   ],
   "source": [
    "heightmap = HeightMap1(example_data)\n",
    "print(f\"Check part 1: {heightmap.calc_risk_level() == 15}\")"
   ]
  },
  {
   "cell_type": "code",
   "execution_count": 5,
   "id": "2593b941-e671-43d7-b228-11d258dab359",
   "metadata": {},
   "outputs": [
    {
     "name": "stdout",
     "output_type": "stream",
     "text": [
      "Input check: True\n"
     ]
    }
   ],
   "source": [
    "with open(r\"..\\data\\Day 09 input.txt\", \"r\") as fh_in:\n",
    "    input_data = [line.strip() for line in fh_in]\n",
    "print(f\"Input check: {len(input_data) == 100}\")"
   ]
  },
  {
   "cell_type": "code",
   "execution_count": 6,
   "id": "a1c907e0-61bb-4df4-b4af-d6fac5ae7cfd",
   "metadata": {},
   "outputs": [
    {
     "name": "stdout",
     "output_type": "stream",
     "text": [
      "Answer part 1: 558\n"
     ]
    }
   ],
   "source": [
    "heightmap = HeightMap1(input_data)\n",
    "print(f\"Answer part 1: {heightmap.calc_risk_level()}\")"
   ]
  },
  {
   "cell_type": "markdown",
   "id": "5810291d-528b-4edc-b11f-ed6a780bf598",
   "metadata": {},
   "source": [
    "## Part 2"
   ]
  },
  {
   "cell_type": "code",
   "execution_count": 7,
   "id": "cd1662d3-ef08-4dc3-ad66-c91e3d4e4747",
   "metadata": {},
   "outputs": [],
   "source": [
    "class HeightMap2(HeightMap):\n",
    "    def basin(self, start_row, start_col):\n",
    "        basin = set()\n",
    "        basin.add((start_row, start_col))\n",
    "        todo = [(r, c) for r, c in self.neighbours(start_row, start_col)]\n",
    "        while todo:\n",
    "            row, col = todo.pop()\n",
    "            if (row, col) not in basin:\n",
    "                if self.map[row][col] != 9:\n",
    "                    basin.add((row, col))\n",
    "                    todo.extend([(r, c) for r, c in self.neighbours(row, col)])\n",
    "        return basin\n",
    "\n",
    "    def largest_basins_mult(self, n=3):\n",
    "        basins = []\n",
    "        for row, col in self.low_points:\n",
    "            basins.append(self.basin(row, col))\n",
    "        result = 1\n",
    "        for size in sorted(map(len, basins), reverse=True)[:n]:\n",
    "            result *= size\n",
    "        return result"
   ]
  },
  {
   "cell_type": "code",
   "execution_count": 8,
   "id": "99ab280e-e577-477d-93fd-44b5aa15e395",
   "metadata": {},
   "outputs": [
    {
     "name": "stdout",
     "output_type": "stream",
     "text": [
      "Check part 2: True\n"
     ]
    }
   ],
   "source": [
    "heightmap = HeightMap2(example_data)\n",
    "print(f\"Check part 2: {heightmap.largest_basins_mult(3) == 1134}\")"
   ]
  },
  {
   "cell_type": "code",
   "execution_count": 9,
   "id": "3a1f1ebf-7ee6-43a8-b05e-ca44f22ef3a4",
   "metadata": {},
   "outputs": [
    {
     "name": "stdout",
     "output_type": "stream",
     "text": [
      "Answer part 2: 882942\n"
     ]
    }
   ],
   "source": [
    "heightmap = HeightMap2(input_data)\n",
    "print(f\"Answer part 2: {heightmap.largest_basins_mult(3)}\")"
   ]
  },
  {
   "cell_type": "code",
   "execution_count": null,
   "id": "84792a96-cee5-41d7-921f-fe8de54bdff5",
   "metadata": {},
   "outputs": [],
   "source": []
  }
 ],
 "metadata": {
  "kernelspec": {
   "display_name": "Python 3 (ipykernel)",
   "language": "python",
   "name": "python3"
  },
  "language_info": {
   "codemirror_mode": {
    "name": "ipython",
    "version": 3
   },
   "file_extension": ".py",
   "mimetype": "text/x-python",
   "name": "python",
   "nbconvert_exporter": "python",
   "pygments_lexer": "ipython3",
   "version": "3.10.1"
  }
 },
 "nbformat": 4,
 "nbformat_minor": 5
}
