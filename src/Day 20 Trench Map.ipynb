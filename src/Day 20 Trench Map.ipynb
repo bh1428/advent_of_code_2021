{
 "cells": [
  {
   "cell_type": "markdown",
   "id": "e43bb3dd-d23a-4965-9945-9fae92f9648a",
   "metadata": {},
   "source": [
    "# [Day 20: Trench Map](https://adventofcode.com/2021/day/20)"
   ]
  },
  {
   "cell_type": "code",
   "execution_count": 1,
   "id": "d2c2581c-629a-4933-b834-b6178ae20406",
   "metadata": {},
   "outputs": [],
   "source": [
    "import collections as cl"
   ]
  },
  {
   "cell_type": "markdown",
   "id": "6873508b-4bb2-462f-a355-fb695b54099f",
   "metadata": {},
   "source": [
    "## Part 1"
   ]
  },
  {
   "cell_type": "code",
   "execution_count": 2,
   "id": "ee1b6696-b889-4a36-a0a5-71fd462543fa",
   "metadata": {},
   "outputs": [],
   "source": [
    "example_data = [\n",
    "    \"..#.#..#####.#.#.#.###.##.....###.##.#..###.####..#####..#....#..#..##..###..######.###...####..#..#####..##..#.#####...##.#.#..#.##..#.#......#.###.######.###.####...#.##.##..#..#..#####.....#.#....###..#.##......#.....#..#..#..##..#...##.######.####.####.#.#...#.......#..#.#.#...####.##.#......#..#...##.#.##..#...##.#.##..###.#......#.#.......#.#.#.####.###.##...#.....####.#..#..#.##.#....##..#.####....##...##..#...#......#.#.......#.......##..####..#...#.#.#...##..#.#..###..#####........#..####......#..#\",\n",
    "    \"\",\n",
    "    \"#..#.\",\n",
    "    \"#....\",\n",
    "    \"##..#\",\n",
    "    \"..#..\",\n",
    "    \"..###\",\n",
    "]\n",
    "\n",
    "example_enhancements = {\n",
    "    1: [\n",
    "        \".##.##.\",\n",
    "        \"#..#.#.\",\n",
    "        \"##.#..#\",\n",
    "        \"####..#\",\n",
    "        \".#..##.\",\n",
    "        \"..##..#\",\n",
    "        \"...#.#.\",\n",
    "    ],\n",
    "    2: [\n",
    "        \".......#.\",\n",
    "        \".#..#.#..\",\n",
    "        \"#.#...###\",\n",
    "        \"#...##.#.\",\n",
    "        \"#.....#.#\",\n",
    "        \".#.#####.\",\n",
    "        \"..#.#####\",\n",
    "        \"...##.##.\",\n",
    "        \"....###..\",\n",
    "    ],\n",
    "}\n",
    "\n",
    "def generate_example_expectations(example_enhancements):\n",
    "    example_expectations = {}\n",
    "    for step in example_enhancements:\n",
    "        example_expectations[step] = []\n",
    "        for row in example_enhancements[step]:\n",
    "            example_expectations[step].append([c for c in row])\n",
    "    return example_expectations\n",
    "\n",
    "example_expectations = generate_example_expectations(example_enhancements)"
   ]
  },
  {
   "cell_type": "code",
   "execution_count": 3,
   "id": "9a3a326e-8b3a-4f9f-a27b-fc5042beea13",
   "metadata": {},
   "outputs": [],
   "source": [
    "class Enhancer:\n",
    "    def __init__(self, input_data):\n",
    "        self.enhancer = input_data[0].strip()\n",
    "        self.image = []\n",
    "        for row in input_data[2:]:\n",
    "            self.image.append([c for c in row])\n",
    "        self.outside = '.'\n",
    "\n",
    "\n",
    "    @staticmethod\n",
    "    def to_number(pixels):\n",
    "        return int(\"\".join([\"1\" if c == \"#\" else \"0\" for c in pixels]), 2)\n",
    "\n",
    "\n",
    "    def enhance_pixel(self, r, c):\n",
    "        pixels = (\n",
    "            (r-1, c-1), (r-1, c), (r-1, c+1),\n",
    "            (r, c-1), (r, c), (r, c+1),\n",
    "            (r+1, c-1), (r+1, c), (r+1, c+1),\n",
    "        )\n",
    "        n_rows, n_cols = len(self.image), len(self.image[0])\n",
    "        index = []\n",
    "        for row, col in pixels:\n",
    "            if (0 <= row < n_rows) and (0 <= col < n_cols):\n",
    "                index.append(self.image[row][col])\n",
    "            else:\n",
    "                index.append(self.outside)\n",
    "        return self.enhancer[self.to_number(index)]\n",
    "\n",
    "\n",
    "    def enhance(self, steps):\n",
    "        for step in range(steps):\n",
    "            new_image = []\n",
    "            for row in range(-1, len(self.image) + 1):\n",
    "                new_row = []\n",
    "                for col in range(-1, len(self.image[0]) + 1):\n",
    "                    new_row.append(self.enhance_pixel(row, col))\n",
    "                new_image.append(new_row)\n",
    "            self.image = new_image\n",
    "            self.outside = self.enhance_pixel(-2, -2)\n",
    "\n",
    "    @property\n",
    "    def pixels_lit(self):\n",
    "        if self.outside == '#':\n",
    "            # infinite number of pixels are lit (all outside): use None as Infinite\n",
    "            return None\n",
    "        # finite number of pixels lit: count\n",
    "        counter = cl.Counter()\n",
    "        for row in self.image:\n",
    "            counter.update(row)\n",
    "        return counter['#']"
   ]
  },
  {
   "cell_type": "code",
   "execution_count": 4,
   "id": "81de4702-aa11-4ba6-add1-8f98464f9b85",
   "metadata": {},
   "outputs": [
    {
     "name": "stdout",
     "output_type": "stream",
     "text": [
      "Check to_number: True\n"
     ]
    }
   ],
   "source": [
    "print(f\"Check to_number: {Enhancer.to_number(['.', '.', '.', '#', '.', '.', '.', '#', '.']) == 34}\")"
   ]
  },
  {
   "cell_type": "code",
   "execution_count": 5,
   "id": "82e809c3-b92c-4fb3-bf68-b7107cd964ca",
   "metadata": {},
   "outputs": [
    {
     "name": "stdout",
     "output_type": "stream",
     "text": [
      "Check enhance pixel (outside): True\n",
      "Check enhance pixel (inside): True\n"
     ]
    }
   ],
   "source": [
    "enhancer = Enhancer(example_data)\n",
    "print(f\"Check enhance pixel (outside): {enhancer.enhance_pixel(-10, -10) == '.'}\")\n",
    "print(f\"Check enhance pixel (inside): {enhancer.enhance_pixel(2, 2) == '#'}\")"
   ]
  },
  {
   "cell_type": "code",
   "execution_count": 6,
   "id": "cfd6b211-4da4-421f-bdd5-9c1919c5aec9",
   "metadata": {},
   "outputs": [
    {
     "name": "stdout",
     "output_type": "stream",
     "text": [
      "Check enhance image (1): True\n"
     ]
    }
   ],
   "source": [
    "steps = 1\n",
    "enhancer = Enhancer(example_data)\n",
    "enhancer.enhance(steps)\n",
    "print(f\"Check enhance image ({steps}): {enhancer.image == example_expectations[steps]}\")"
   ]
  },
  {
   "cell_type": "code",
   "execution_count": 7,
   "id": "03cc8a9e-ed79-4e1a-9235-715273bb1cec",
   "metadata": {},
   "outputs": [
    {
     "name": "stdout",
     "output_type": "stream",
     "text": [
      "Check enhance image (2): True\n"
     ]
    }
   ],
   "source": [
    "steps = 2\n",
    "enhancer = Enhancer(example_data)\n",
    "enhancer.enhance(steps)\n",
    "print(f\"Check enhance image ({steps}): {enhancer.image == example_expectations[steps]}\")"
   ]
  },
  {
   "cell_type": "code",
   "execution_count": 8,
   "id": "4b18b115-4b73-44ba-a4d5-da133f57ddf7",
   "metadata": {},
   "outputs": [
    {
     "name": "stdout",
     "output_type": "stream",
     "text": [
      "Check pixels lit: True\n"
     ]
    }
   ],
   "source": [
    "steps = 2\n",
    "enhancer = Enhancer(example_data)\n",
    "enhancer.enhance(steps)\n",
    "print(f\"Check pixels lit: {enhancer.pixels_lit == 35}\")"
   ]
  },
  {
   "cell_type": "code",
   "execution_count": 9,
   "id": "1344123e-fd6a-420c-955f-f8c16d3054ae",
   "metadata": {},
   "outputs": [
    {
     "name": "stdout",
     "output_type": "stream",
     "text": [
      "Input check: True\n"
     ]
    }
   ],
   "source": [
    "with open(r\"..\\data\\Day 20 input.txt\", \"r\") as fh_in:\n",
    "    input_data = [row.strip() for row in fh_in.readlines()]\n",
    "print(f\"Input check: {len(input_data) == 102}\")"
   ]
  },
  {
   "cell_type": "code",
   "execution_count": 10,
   "id": "c725d99c-bf15-4d9b-8519-d6b3ef791f2c",
   "metadata": {},
   "outputs": [
    {
     "name": "stdout",
     "output_type": "stream",
     "text": [
      "Answer part 1: 5419\n",
      "Wall time: 106 ms\n"
     ]
    }
   ],
   "source": [
    "%%time\n",
    "steps = 2\n",
    "enhancer = Enhancer(input_data)\n",
    "enhancer.enhance(steps)\n",
    "print(f\"Answer part 1: {enhancer.pixels_lit}\")"
   ]
  },
  {
   "cell_type": "markdown",
   "id": "6a9b19ca-e6d8-4cbd-b6f9-f1c2496dc0aa",
   "metadata": {},
   "source": [
    "## Part 2"
   ]
  },
  {
   "cell_type": "code",
   "execution_count": 11,
   "id": "8e204370-17f2-4465-9d3b-c4bd126f0dd4",
   "metadata": {},
   "outputs": [
    {
     "name": "stdout",
     "output_type": "stream",
     "text": [
      "Check part 2 (pixels lit): True\n",
      "Wall time: 1.02 s\n"
     ]
    }
   ],
   "source": [
    "%%time\n",
    "steps = 50\n",
    "enhancer = Enhancer(example_data)\n",
    "enhancer.enhance(steps)\n",
    "print(f\"Check part 2 (pixels lit): {enhancer.pixels_lit == 3351}\")"
   ]
  },
  {
   "cell_type": "code",
   "execution_count": 12,
   "id": "ef953dbc-bc74-45ec-8e9e-af23fdcd73d5",
   "metadata": {},
   "outputs": [
    {
     "name": "stdout",
     "output_type": "stream",
     "text": [
      "Answer part 2: 17325\n",
      "Wall time: 6 s\n"
     ]
    }
   ],
   "source": [
    "%%time\n",
    "steps = 50\n",
    "enhancer = Enhancer(input_data)\n",
    "enhancer.enhance(steps)\n",
    "print(f\"Answer part 2: {enhancer.pixels_lit}\")"
   ]
  },
  {
   "cell_type": "code",
   "execution_count": null,
   "id": "3a979cb7-c7dd-4820-8f48-660527715b59",
   "metadata": {},
   "outputs": [],
   "source": []
  }
 ],
 "metadata": {
  "kernelspec": {
   "display_name": "Python 3 (ipykernel)",
   "language": "python",
   "name": "python3"
  },
  "language_info": {
   "codemirror_mode": {
    "name": "ipython",
    "version": 3
   },
   "file_extension": ".py",
   "mimetype": "text/x-python",
   "name": "python",
   "nbconvert_exporter": "python",
   "pygments_lexer": "ipython3",
   "version": "3.10.1"
  }
 },
 "nbformat": 4,
 "nbformat_minor": 5
}
