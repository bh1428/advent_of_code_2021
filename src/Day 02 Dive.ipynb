{
 "cells": [
  {
   "cell_type": "markdown",
   "id": "902eac5c-471d-4d2c-bfab-637d5094a284",
   "metadata": {},
   "source": [
    "# [Day 2: Dive!](https://adventofcode.com/2021/day/2)"
   ]
  },
  {
   "cell_type": "code",
   "execution_count": 1,
   "id": "d8b558bd-6a02-415b-93cf-01d41270b1a0",
   "metadata": {},
   "outputs": [],
   "source": [
    "import dataclasses as dc"
   ]
  },
  {
   "cell_type": "markdown",
   "id": "063297e2-5cdb-4a98-8984-d1edd3336ec4",
   "metadata": {},
   "source": [
    "## Part 1"
   ]
  },
  {
   "cell_type": "code",
   "execution_count": 2,
   "id": "a6eea224-a8b0-447c-b820-e721ac8eb34e",
   "metadata": {},
   "outputs": [],
   "source": [
    "example_commands = [\n",
    "    \"forward 5\",\n",
    "    \"down 5\",\n",
    "    \"forward 8\",\n",
    "    \"up 3\",\n",
    "    \"down 8\",\n",
    "    \"forward 2\",\n",
    "]"
   ]
  },
  {
   "cell_type": "code",
   "execution_count": 3,
   "id": "68f216c9-1ed6-48f2-8759-1a93fbcff9f7",
   "metadata": {},
   "outputs": [],
   "source": [
    "@dc.dataclass\n",
    "class SubMarine1:\n",
    "    position: int = 0\n",
    "    depth: int = 0\n",
    "\n",
    "    def forward(self, x):\n",
    "        self.position += x\n",
    "\n",
    "    def down(self, x):\n",
    "        self.depth += x\n",
    "\n",
    "    def up(self, x):\n",
    "        self.down(-x)\n",
    "\n",
    "    def cmd(self, cmd):\n",
    "        cmd, x = cmd.split(\" \")\n",
    "        func = getattr(self, cmd)\n",
    "        func(int(x))\n",
    "\n",
    "    @property\n",
    "    def position_mul_depth(self):\n",
    "        return self.position * self.depth"
   ]
  },
  {
   "cell_type": "code",
   "execution_count": 4,
   "id": "35dadd7c-9853-45a7-8364-6e168878fa2a",
   "metadata": {},
   "outputs": [
    {
     "name": "stdout",
     "output_type": "stream",
     "text": [
      "Check part 1: True\n"
     ]
    }
   ],
   "source": [
    "submarine = SubMarine1()\n",
    "for command in example_commands:\n",
    "    submarine.cmd(command)\n",
    "print(f\"Check part 1: {submarine.position_mul_depth == 150}\")"
   ]
  },
  {
   "cell_type": "code",
   "execution_count": 5,
   "id": "a2242174-7a7e-4ad2-ad5b-4d337ef2c70b",
   "metadata": {},
   "outputs": [
    {
     "name": "stdout",
     "output_type": "stream",
     "text": [
      "Input line check: True\n"
     ]
    }
   ],
   "source": [
    "with open(r\"..\\data\\Day 02 input.txt\", \"r\") as fh_in:\n",
    "    commands = [line.strip() for line in fh_in if line.strip()]\n",
    "print(f\"Input line check: {len(commands) == 1000}\")"
   ]
  },
  {
   "cell_type": "code",
   "execution_count": 6,
   "id": "fab87152-b338-4fb5-9ffa-a4c79e6614dd",
   "metadata": {},
   "outputs": [
    {
     "name": "stdout",
     "output_type": "stream",
     "text": [
      "Answer part 1: 2147104\n"
     ]
    }
   ],
   "source": [
    "submarine = SubMarine1()\n",
    "for command in commands:\n",
    "    submarine.cmd(command)\n",
    "print(f\"Answer part 1: {submarine.position_mul_depth}\")"
   ]
  },
  {
   "cell_type": "markdown",
   "id": "aa55a6e1-eaa9-4e66-9270-f4902cf73eec",
   "metadata": {},
   "source": [
    "## Part 2"
   ]
  },
  {
   "cell_type": "code",
   "execution_count": 7,
   "id": "d248c8ea-dcd1-4888-8442-ee7643222869",
   "metadata": {},
   "outputs": [],
   "source": [
    "@dc.dataclass\n",
    "class SubMarine2(SubMarine1):\n",
    "    aim: int = 0\n",
    "\n",
    "    def forward(self, x):\n",
    "        self.position += x\n",
    "        self.depth += self.aim * x\n",
    "\n",
    "    def down(self, x):\n",
    "        self.aim += x"
   ]
  },
  {
   "cell_type": "code",
   "execution_count": 8,
   "id": "7c38c599-84c3-40b5-bcbf-f15070d1256b",
   "metadata": {},
   "outputs": [
    {
     "name": "stdout",
     "output_type": "stream",
     "text": [
      "Check part 2: True\n"
     ]
    }
   ],
   "source": [
    "submarine = SubMarine2()\n",
    "for command in example_commands:\n",
    "    submarine.cmd(command)\n",
    "print(f\"Check part 2: {submarine.position_mul_depth == 900}\")"
   ]
  },
  {
   "cell_type": "code",
   "execution_count": 9,
   "id": "9d71525f-6351-4322-b5f5-24b3cab5bd55",
   "metadata": {},
   "outputs": [
    {
     "name": "stdout",
     "output_type": "stream",
     "text": [
      "Answer part 2: 2044620088\n"
     ]
    }
   ],
   "source": [
    "submarine = SubMarine2()\n",
    "for command in commands:\n",
    "    submarine.cmd(command)\n",
    "print(f\"Answer part 2: {submarine.position_mul_depth}\")"
   ]
  },
  {
   "cell_type": "code",
   "execution_count": null,
   "id": "8900793b-4f2d-4412-92eb-f80138f0a5ad",
   "metadata": {},
   "outputs": [],
   "source": []
  }
 ],
 "metadata": {
  "kernelspec": {
   "display_name": "Python 3 (ipykernel)",
   "language": "python",
   "name": "python3"
  },
  "language_info": {
   "codemirror_mode": {
    "name": "ipython",
    "version": 3
   },
   "file_extension": ".py",
   "mimetype": "text/x-python",
   "name": "python",
   "nbconvert_exporter": "python",
   "pygments_lexer": "ipython3",
   "version": "3.10.0"
  }
 },
 "nbformat": 4,
 "nbformat_minor": 5
}
