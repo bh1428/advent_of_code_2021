{
 "cells": [
  {
   "cell_type": "markdown",
   "id": "e43bb3dd-d23a-4965-9945-9fae92f9648a",
   "metadata": {},
   "source": [
    "# [Day 15: Chiton](https://adventofcode.com/2021/day/15)"
   ]
  },
  {
   "cell_type": "code",
   "execution_count": 1,
   "id": "d44d12cf-dcdf-4653-b65f-c2f3cae14df7",
   "metadata": {},
   "outputs": [],
   "source": [
    "import collections as cl\n",
    "import dataclasses as dc\n",
    "from typing import Optional"
   ]
  },
  {
   "cell_type": "markdown",
   "id": "09a7a32d-1a1b-4c2f-96da-031f440c22de",
   "metadata": {},
   "source": [
    "## Part 1"
   ]
  },
  {
   "cell_type": "code",
   "execution_count": 2,
   "id": "0e2c95d3-e369-43ae-ae18-b15dcb4989a2",
   "metadata": {},
   "outputs": [],
   "source": [
    "example_data = [\n",
    "    \"1163751742\",\n",
    "    \"1381373672\",\n",
    "    \"2136511328\",\n",
    "    \"3694931569\",\n",
    "    \"7463417111\",\n",
    "    \"1319128137\",\n",
    "    \"1359912421\",\n",
    "    \"3125421639\",\n",
    "    \"1293138521\",\n",
    "    \"2311944581\",\n",
    "]"
   ]
  },
  {
   "cell_type": "code",
   "execution_count": 3,
   "id": "f79dada0-c097-48db-87ab-f21ad62ac48f",
   "metadata": {},
   "outputs": [],
   "source": [
    "def parse_input(input_data: list[str]) -> list[list[int]]:\n",
    "    return [list(map(int, row)) for row in input_data]\n",
    "\n",
    "\n",
    "@dc.dataclass\n",
    "class Node:\n",
    "    risk: Optional[int] = None\n",
    "    best_neighbour: tuple[Optional[int], Optional[int]] = (None, None)\n",
    "    not_visited: bool = True\n",
    "\n",
    "\n",
    "def dijkstra(start_coord: tuple[int, int], end_coord: tuple[int, int], risk_map: list[list[int]]) -> list[tuple[int, int]]:\n",
    "    # get map boundaries\n",
    "    max_row = len(risk_map) - 1\n",
    "    max_col = len(risk_map[0]) - 1\n",
    "    \n",
    "    # new nodes have an (implicit) risk of (None: used as infinite), set cost start node to 0\n",
    "    nodes = cl.defaultdict(Node)\n",
    "    nodes[start_coord].risk = 0\n",
    "\n",
    "    # initialize loop\n",
    "    todo = cl.defaultdict(int)\n",
    "    best_candidate_coord = start_coord\n",
    "    while best_candidate_coord != end_coord:\n",
    "        best_candidate = nodes[best_candidate_coord]\n",
    "        \n",
    "        # visit all non-visited neighbors\n",
    "        br, bc = best_candidate_coord\n",
    "        for nr, nc in ((br+1, bc), (br, bc+1), (br-1, bc), (br, bc-1)):\n",
    "            # only when the coordinates for the neighbor are valid\n",
    "            if (0 <= nr <= max_row) and (0 <= nc <= max_col):\n",
    "                neighbor_coord = (nr, nc)\n",
    "                neighbor = nodes[neighbor_coord]\n",
    "                if neighbor.not_visited:\n",
    "                    # do we need to update the risk and best neighbour?\n",
    "                    new_neighbor_risk = best_candidate.risk + risk_map[nr][nc]\n",
    "                    if (neighbor.risk is None) or (new_neighbor_risk < neighbor.risk):\n",
    "                        # update neighbor node\n",
    "                        neighbor.risk = new_neighbor_risk\n",
    "                        neighbor.best_neighbour = best_candidate_coord\n",
    "                        # upsert in todo as well\n",
    "                        todo[neighbor_coord] = new_neighbor_risk\n",
    "        \n",
    "        # done with best candidate: mark it visited\n",
    "        best_candidate.not_visited = False\n",
    "        \n",
    "        # get new best candidate (i.e. node with lowest risk so far)\n",
    "        best_candidate_coord = min(todo, key=todo.get)\n",
    "        del todo[best_candidate_coord]\n",
    "\n",
    "    # gather nodes from end back to the start\n",
    "    route = [best_candidate_coord]\n",
    "    while best_candidate_coord != start_coord:\n",
    "        best_candidate_coord = nodes[best_candidate_coord].best_neighbour\n",
    "        route.append(best_candidate_coord)\n",
    "    return route[::-1]  # and return in correct order"
   ]
  },
  {
   "cell_type": "code",
   "execution_count": 4,
   "id": "85661d43-2266-4e6a-b26c-09012c86d5c2",
   "metadata": {},
   "outputs": [],
   "source": [
    "def part1(input_data: list[str]) -> int:\n",
    "    risk_map = parse_input(input_data)\n",
    "    route = dijkstra((0,0), (len(risk_map)-1, len(risk_map[0])-1), risk_map)\n",
    "    return sum(risk_map[row][col] for row, col in route[1:])"
   ]
  },
  {
   "cell_type": "code",
   "execution_count": 5,
   "id": "4bdf9f62-6ea9-4458-bc62-c511ebf18a07",
   "metadata": {},
   "outputs": [
    {
     "name": "stdout",
     "output_type": "stream",
     "text": [
      "Check part 1: True\n"
     ]
    }
   ],
   "source": [
    "print(f\"Check part 1: {part1(example_data) == 40}\")"
   ]
  },
  {
   "cell_type": "code",
   "execution_count": 6,
   "id": "b3bce85e-0c71-4cff-9a97-ddb23f50c7fb",
   "metadata": {},
   "outputs": [
    {
     "name": "stdout",
     "output_type": "stream",
     "text": [
      "Input check: True\n"
     ]
    }
   ],
   "source": [
    "with open(r\"..\\data\\Day 15 input.txt\", \"r\") as fh_in:\n",
    "    input_data = [line.strip() for line in fh_in]\n",
    "print(f\"Input check: {len(input_data) == 100}\")"
   ]
  },
  {
   "cell_type": "code",
   "execution_count": 7,
   "id": "0fc81d94-b80f-4aa4-9c5a-fdaff1bcc999",
   "metadata": {},
   "outputs": [
    {
     "name": "stdout",
     "output_type": "stream",
     "text": [
      "Answer part 1: 390\n"
     ]
    }
   ],
   "source": [
    "print(f\"Answer part 1: {part1(input_data)}\")"
   ]
  },
  {
   "cell_type": "markdown",
   "id": "5810291d-528b-4edc-b11f-ed6a780bf598",
   "metadata": {},
   "source": [
    "## Part 2"
   ]
  },
  {
   "cell_type": "code",
   "execution_count": 8,
   "id": "27a56aaa-fddc-49ec-9bde-8ec6277c2bbc",
   "metadata": {},
   "outputs": [],
   "source": [
    "def expand_map(initial_map: list[list[int]], factor: int) -> list[list[int]]:\n",
    "    horizontal_blok = []\n",
    "    for row in initial_map:\n",
    "        new_row = []\n",
    "        for i in range(0, factor):\n",
    "            new_row.extend([col+i if col+i<10 else col+i-9 for col in row])\n",
    "        horizontal_blok.append(new_row)\n",
    "    new_map = []\n",
    "    for i in range(0, factor):\n",
    "        for row in horizontal_blok:\n",
    "            new_map.append([col+i if col+i<10 else col+i-9 for col in row])\n",
    "    \n",
    "    return new_map\n",
    "\n",
    "def part2(input_data: list[str]) -> int:\n",
    "    risk_map = expand_map(parse_input(input_data), 5)\n",
    "    route = dijkstra((0,0), (len(risk_map)-1, len(risk_map[0])-1), risk_map)\n",
    "    return sum(risk_map[row][col] for row, col in route[1:])"
   ]
  },
  {
   "cell_type": "code",
   "execution_count": 9,
   "id": "77b45b3f-e9d6-4c35-9144-1861aa4afc0f",
   "metadata": {},
   "outputs": [
    {
     "name": "stdout",
     "output_type": "stream",
     "text": [
      "Check part 2: True\n"
     ]
    }
   ],
   "source": [
    "print(f\"Check part 2: {part2(example_data) == 315}\")"
   ]
  },
  {
   "cell_type": "code",
   "execution_count": 10,
   "id": "fd67fdcf-85a0-4bf1-b55c-7f3830ae55bc",
   "metadata": {},
   "outputs": [
    {
     "name": "stdout",
     "output_type": "stream",
     "text": [
      "Answer part 2: 2814\n",
      "Wall time: 10.4 s\n"
     ]
    }
   ],
   "source": [
    "%%time\n",
    "print(f\"Answer part 2: {part2(input_data)}\")"
   ]
  },
  {
   "cell_type": "code",
   "execution_count": null,
   "id": "93bde66a-8584-4f5e-a89c-a91ae8c533a3",
   "metadata": {},
   "outputs": [],
   "source": []
  }
 ],
 "metadata": {
  "kernelspec": {
   "display_name": "Python 3 (ipykernel)",
   "language": "python",
   "name": "python3"
  },
  "language_info": {
   "codemirror_mode": {
    "name": "ipython",
    "version": 3
   },
   "file_extension": ".py",
   "mimetype": "text/x-python",
   "name": "python",
   "nbconvert_exporter": "python",
   "pygments_lexer": "ipython3",
   "version": "3.10.1"
  }
 },
 "nbformat": 4,
 "nbformat_minor": 5
}
