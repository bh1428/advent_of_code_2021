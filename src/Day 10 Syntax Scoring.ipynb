{
 "cells": [
  {
   "cell_type": "markdown",
   "id": "e43bb3dd-d23a-4965-9945-9fae92f9648a",
   "metadata": {},
   "source": [
    "# [Day 10: Syntax Scoring](https://adventofcode.com/2021/day/10)"
   ]
  },
  {
   "cell_type": "markdown",
   "id": "90cab8b4-70fd-4c01-b5ed-aebc3765f5ff",
   "metadata": {},
   "source": [
    "## Part 1"
   ]
  },
  {
   "cell_type": "code",
   "execution_count": 1,
   "id": "5dd452fb-0d22-4d11-b35b-fb757b962703",
   "metadata": {},
   "outputs": [],
   "source": [
    "example_data = [\n",
    "    \"[({(<(())[]>[[{[]{<()<>>\",\n",
    "    \"[(()[<>])]({[<{<<[]>>(\",\n",
    "    \"{([(<{}[<>[]}>{[]{[(<()>\",\n",
    "    \"(((({<>}<{<{<>}{[]{[]{}\",\n",
    "    \"[[<[([]))<([[{}[[()]]]\",\n",
    "    \"[{[{({}]{}}([{[{{{}}([]\",\n",
    "    \"{<[[]]>}<{[{[{[]{()[[[]\",\n",
    "    \"[<(<(<(<{}))><([]([]()\",\n",
    "    \"<{([([[(<>()){}]>(<<{{\",\n",
    "    \"<{([{{}}[<[[[<>{}]]]>[]]\",\n",
    "]"
   ]
  },
  {
   "cell_type": "code",
   "execution_count": 2,
   "id": "f92c6a45-c3ae-44c9-8392-343f5774241b",
   "metadata": {},
   "outputs": [],
   "source": [
    "pairs = {\n",
    "    \"(\": \")\",\n",
    "    \"[\": \"]\",\n",
    "    \"{\": \"}\",\n",
    "    \"<\": \">\",\n",
    "}\n",
    "\n",
    "corrupt_scores = {\n",
    "    \")\": 3,\n",
    "    \"]\": 57,\n",
    "    \"}\": 1197,\n",
    "    \">\": 25137,\n",
    "}\n",
    "\n",
    "def score_a_corrupt_line(line, pairs=pairs, scores=corrupt_scores):\n",
    "    expected = []\n",
    "    for c in line:\n",
    "        if c in pairs:\n",
    "            expected.append(pairs[c])\n",
    "        elif c == expected[-1]:\n",
    "            expected.pop()\n",
    "        else:\n",
    "            # corrupt\n",
    "            return scores[c]\n",
    "    return 0\n",
    "\n",
    "def part1(lines, pairs=pairs, scores=corrupt_scores):\n",
    "    return sum([score_a_corrupt_line(line, pairs, scores) for line in lines])"
   ]
  },
  {
   "cell_type": "code",
   "execution_count": 3,
   "id": "3224279f-144c-4713-a945-be0fa4ef4cd6",
   "metadata": {},
   "outputs": [
    {
     "name": "stdout",
     "output_type": "stream",
     "text": [
      "Check part 1: True\n"
     ]
    }
   ],
   "source": [
    "print(f\"Check part 1: {part1(example_data) == 26397}\")"
   ]
  },
  {
   "cell_type": "code",
   "execution_count": 4,
   "id": "2593b941-e671-43d7-b228-11d258dab359",
   "metadata": {},
   "outputs": [
    {
     "name": "stdout",
     "output_type": "stream",
     "text": [
      "Input check: True\n"
     ]
    }
   ],
   "source": [
    "with open(r\"..\\data\\Day 10 input.txt\", \"r\") as fh_in:\n",
    "    input_data = [line.strip() for line in fh_in]\n",
    "print(f\"Input check: {len(input_data) == 90}\")"
   ]
  },
  {
   "cell_type": "code",
   "execution_count": 5,
   "id": "a1c907e0-61bb-4df4-b4af-d6fac5ae7cfd",
   "metadata": {},
   "outputs": [
    {
     "name": "stdout",
     "output_type": "stream",
     "text": [
      "Answer part 1: 358737\n"
     ]
    }
   ],
   "source": [
    "print(f\"Answer part 1: {part1(input_data)}\")"
   ]
  },
  {
   "cell_type": "markdown",
   "id": "5810291d-528b-4edc-b11f-ed6a780bf598",
   "metadata": {},
   "source": [
    "## Part 2"
   ]
  },
  {
   "cell_type": "code",
   "execution_count": 6,
   "id": "cd1662d3-ef08-4dc3-ad66-c91e3d4e4747",
   "metadata": {},
   "outputs": [],
   "source": [
    "incomplete_scores = {\n",
    "    \")\": 1,\n",
    "    \"]\": 2,\n",
    "    \"}\": 3,\n",
    "    \">\": 4,\n",
    "}\n",
    "\n",
    "def score_an_incomplete_line(line, pairs=pairs, scores=incomplete_scores):\n",
    "    expected = []\n",
    "    for c in line:\n",
    "        if c in pairs:\n",
    "            expected.append(pairs[c])\n",
    "        elif c == expected[-1]:\n",
    "            expected.pop()\n",
    "        else:\n",
    "            # corrupt\n",
    "            expected = []\n",
    "            break\n",
    "    score = 0\n",
    "    for c in expected[::-1]:\n",
    "        score = score * 5 + scores[c]\n",
    "    return score\n",
    "\n",
    "def part2(lines, pairs=pairs, scores=incomplete_scores):\n",
    "    scoreboard = [score_an_incomplete_line(line, pairs, scores) for line in lines]\n",
    "    scoreboard = sorted([score for score in scoreboard if score != 0])\n",
    "    return scoreboard[len(scoreboard) // 2]"
   ]
  },
  {
   "cell_type": "code",
   "execution_count": 7,
   "id": "99ab280e-e577-477d-93fd-44b5aa15e395",
   "metadata": {},
   "outputs": [
    {
     "name": "stdout",
     "output_type": "stream",
     "text": [
      "Check part 2: True\n"
     ]
    }
   ],
   "source": [
    "print(f\"Check part 2: {part2(example_data) == 288957}\")"
   ]
  },
  {
   "cell_type": "code",
   "execution_count": 8,
   "id": "3a1f1ebf-7ee6-43a8-b05e-ca44f22ef3a4",
   "metadata": {},
   "outputs": [
    {
     "name": "stdout",
     "output_type": "stream",
     "text": [
      "Answer part 2: 4329504793\n"
     ]
    }
   ],
   "source": [
    "print(f\"Answer part 2: {part2(input_data)}\")"
   ]
  },
  {
   "cell_type": "code",
   "execution_count": null,
   "id": "84792a96-cee5-41d7-921f-fe8de54bdff5",
   "metadata": {},
   "outputs": [],
   "source": []
  }
 ],
 "metadata": {
  "kernelspec": {
   "display_name": "Python 3 (ipykernel)",
   "language": "python",
   "name": "python3"
  },
  "language_info": {
   "codemirror_mode": {
    "name": "ipython",
    "version": 3
   },
   "file_extension": ".py",
   "mimetype": "text/x-python",
   "name": "python",
   "nbconvert_exporter": "python",
   "pygments_lexer": "ipython3",
   "version": "3.10.1"
  }
 },
 "nbformat": 4,
 "nbformat_minor": 5
}
