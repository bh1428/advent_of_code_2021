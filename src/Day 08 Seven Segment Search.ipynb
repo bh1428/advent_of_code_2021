{
 "cells": [
  {
   "cell_type": "markdown",
   "id": "c4fb472a-c02d-45d3-8fac-1a9b4eb13e0e",
   "metadata": {},
   "source": [
    "# [Day 8: Seven Segment Search](https://adventofcode.com/2021/day/8)"
   ]
  },
  {
   "cell_type": "code",
   "execution_count": 1,
   "id": "5f615200-d0c2-4c0b-9395-a1d33b90e273",
   "metadata": {},
   "outputs": [],
   "source": [
    "import collections as cl"
   ]
  },
  {
   "cell_type": "markdown",
   "id": "90cab8b4-70fd-4c01-b5ed-aebc3765f5ff",
   "metadata": {},
   "source": [
    "## Part 1"
   ]
  },
  {
   "cell_type": "code",
   "execution_count": 2,
   "id": "5dd452fb-0d22-4d11-b35b-fb757b962703",
   "metadata": {},
   "outputs": [],
   "source": [
    "example_data = [\n",
    "    \"be cfbegad cbdgef fgaecd cgeb fdcge agebfd fecdb fabcd edb | fdgacbe cefdb cefbgd gcbe\",\n",
    "    \"edbfga begcd cbg gc gcadebf fbgde acbgfd abcde gfcbed gfec | fcgedb cgb dgebacf gc\",\n",
    "    \"fgaebd cg bdaec gdafb agbcfd gdcbef bgcad gfac gcb cdgabef | cg cg fdcagb cbg\",\n",
    "    \"fbegcd cbd adcefb dageb afcb bc aefdc ecdab fgdeca fcdbega | efabcd cedba gadfec cb\",\n",
    "    \"aecbfdg fbg gf bafeg dbefa fcge gcbea fcaegb dgceab fcbdga | gecf egdcabf bgf bfgea\",\n",
    "    \"fgeab ca afcebg bdacfeg cfaedg gcfdb baec bfadeg bafgc acf | gebdcfa ecba ca fadegcb\",\n",
    "    \"dbcfg fgd bdegcaf fgec aegbdf ecdfab fbedc dacgb gdcebf gf | cefg dcbef fcge gbcadfe\",\n",
    "    \"bdfegc cbegaf gecbf dfcage bdacg ed bedf ced adcbefg gebcd | ed bcgafe cdgba cbgef\",\n",
    "    \"egadfb cdbfeg cegd fecab cgb gbdefca cg fgcdab egfdb bfceg | gbdfcae bgc cg cgb\",\n",
    "    \"gcafb gcf dcaebfg ecagb gf abcdeg gaef cafbge fdbac fegbdc | fgae cfgab fg bagce\",\n",
    "]"
   ]
  },
  {
   "cell_type": "code",
   "execution_count": 3,
   "id": "56bad237-1e6d-4470-85f7-c823a07ea205",
   "metadata": {},
   "outputs": [
    {
     "name": "stdout",
     "output_type": "stream",
     "text": [
      "Unique lengths: 1, 4, 7, 8\n"
     ]
    }
   ],
   "source": [
    "segment_to_digit = {\n",
    "    \"abcefg\": 0,\n",
    "    \"cf\": 1,\n",
    "    \"acdeg\": 2,\n",
    "    \"acdfg\": 3,\n",
    "    \"bcdf\": 4,\n",
    "    \"abdfg\": 5,\n",
    "    \"abdefg\": 6,\n",
    "    \"acf\": 7,\n",
    "    \"abcdefg\": 8,\n",
    "    \"abcdfg\": 9,\n",
    "}\n",
    "\n",
    "pattern_lengths = {segment_to_digit[pattern]: len(pattern) for pattern, n in segment_to_digit.items()}\n",
    "digits_by_length = cl.defaultdict(list)\n",
    "for digit, length in pattern_lengths.items():\n",
    "    digits_by_length[length].append(digit)\n",
    "unique_lengths = [digits[0] for length, digits in digits_by_length.items() if len(digits) == 1]\n",
    "\n",
    "print(f\"Unique lengths: {', '.join([str(d) for d in sorted(unique_lengths)])}\")"
   ]
  },
  {
   "cell_type": "code",
   "execution_count": 4,
   "id": "91ef7a41-14b9-4f5d-8041-1a96a1170453",
   "metadata": {},
   "outputs": [],
   "source": [
    "def parse_line(line):\n",
    "    patterns, digits = map(str.strip, line.split(\"|\"))\n",
    "    return {\"patterns\": patterns.split(\" \"), \"digits\": digits.split(\" \") }"
   ]
  },
  {
   "cell_type": "code",
   "execution_count": 5,
   "id": "ffdf7335-a339-404f-9c0f-fb7d09277d65",
   "metadata": {},
   "outputs": [],
   "source": [
    "def part1(input_data):\n",
    "    cnt = cl.Counter()\n",
    "    for line in input_data:\n",
    "        cnt.update(map(len, parse_line(line)[\"digits\"]))\n",
    "    return sum([cnt[pattern_lengths[n]] for n in unique_lengths])"
   ]
  },
  {
   "cell_type": "code",
   "execution_count": 6,
   "id": "a5259722-ade3-4dd6-9a0c-ba058ecf1391",
   "metadata": {},
   "outputs": [
    {
     "name": "stdout",
     "output_type": "stream",
     "text": [
      "Check part 1: True\n"
     ]
    }
   ],
   "source": [
    "print(f\"Check part 1: {part1(example_data) == 26}\")"
   ]
  },
  {
   "cell_type": "code",
   "execution_count": 7,
   "id": "2593b941-e671-43d7-b228-11d258dab359",
   "metadata": {},
   "outputs": [
    {
     "name": "stdout",
     "output_type": "stream",
     "text": [
      "Input check: True\n"
     ]
    }
   ],
   "source": [
    "with open(r\"..\\data\\Day 08 input.txt\", \"r\") as fh_in:\n",
    "    input_data = fh_in.readlines()\n",
    "print(f\"Input check: {len(input_data) == 200}\")"
   ]
  },
  {
   "cell_type": "code",
   "execution_count": 8,
   "id": "a1c907e0-61bb-4df4-b4af-d6fac5ae7cfd",
   "metadata": {},
   "outputs": [
    {
     "name": "stdout",
     "output_type": "stream",
     "text": [
      "Answer part 1: 392\n"
     ]
    }
   ],
   "source": [
    "print(f\"Answer part 1: {part1(input_data)}\")"
   ]
  },
  {
   "cell_type": "markdown",
   "id": "5810291d-528b-4edc-b11f-ed6a780bf598",
   "metadata": {},
   "source": [
    "## Part 2"
   ]
  },
  {
   "cell_type": "code",
   "execution_count": 9,
   "id": "cd1662d3-ef08-4dc3-ad66-c91e3d4e4747",
   "metadata": {},
   "outputs": [],
   "source": [
    "def decode(line, segment_to_digit=segment_to_digit):\n",
    "    parsed_line = parse_line(line)\n",
    "    \n",
    "    # create list of patterns sorted by length\n",
    "    patterns_by_len = cl.defaultdict(list)\n",
    "    for pattern in parsed_line[\"patterns\"]:\n",
    "        patterns_by_len[len(pattern)].append(set(pattern))\n",
    "    \n",
    "    # combine patterns to extract segment information\n",
    "    segments = {}\n",
    "    segments[\"a\"] = patterns_by_len[3][0] - patterns_by_len[2][0]\n",
    "    segments_bd = patterns_by_len[4][0] - patterns_by_len[3][0]\n",
    "    segments_eg = patterns_by_len[7][0] - patterns_by_len[4][0] - segments[\"a\"]\n",
    "    segments_afg = sorted([five - segments_bd for five in patterns_by_len[5]], key=len)[0]\n",
    "    segments[\"f\"] = segments_afg - segments[\"a\"] - segments_eg\n",
    "    segments[\"g\"] = segments_afg - segments[\"a\"] - segments[\"f\"]\n",
    "    segments[\"e\"] = segments_eg - segments[\"g\"]\n",
    "    segments[\"c\"] = sorted([five - segments_bd - segments_afg for five in patterns_by_len[5]], key=len)[1]\n",
    "    segments[\"b\"] = sorted(\n",
    "        [six - segments_eg - segments[\"f\"] - segments[\"a\"] - segments[\"c\"] for six in patterns_by_len[6]],\n",
    "        key=len\n",
    "    )[0]\n",
    "    segments[\"d\"] = segments_bd - segments[\"b\"]\n",
    "    \n",
    "    # decode by remapping and lookup\n",
    "    mapping = str.maketrans({list(segments[to_digit])[0]: to_digit for to_digit in segments})\n",
    "    decoded = [segment_to_digit[\"\".join(sorted(digit.translate(mapping)))] for digit in parsed_line[\"digits\"]]\n",
    "    return int(\"\".join(map(str, decoded)))"
   ]
  },
  {
   "cell_type": "code",
   "execution_count": 10,
   "id": "e9c195df-1328-4f73-9d59-ac81d7dc813b",
   "metadata": {},
   "outputs": [
    {
     "name": "stdout",
     "output_type": "stream",
     "text": [
      "Check part 2 (line): True\n"
     ]
    }
   ],
   "source": [
    "example_line = \"acedgfb cdfbe gcdfa fbcad dab cefabd cdfgeb eafb cagedb ab | cdfeb fcadb cdfeb cdbaf\"\n",
    "print(f\"Check part 2 (line): {decode(example_line) == 5353}\")"
   ]
  },
  {
   "cell_type": "code",
   "execution_count": 11,
   "id": "b34246dc-a34c-42bb-9f4c-6d9509cb8614",
   "metadata": {},
   "outputs": [
    {
     "name": "stdout",
     "output_type": "stream",
     "text": [
      "be cfbegad cbdgef fgaecd cgeb fdcge agebfd fecdb fabcd edb | fdgacbe cefdb cefbgd gcbe: True\n",
      "edbfga begcd cbg gc gcadebf fbgde acbgfd abcde gfcbed gfec | fcgedb cgb dgebacf gc: True\n",
      "fgaebd cg bdaec gdafb agbcfd gdcbef bgcad gfac gcb cdgabef | cg cg fdcagb cbg: True\n",
      "fbegcd cbd adcefb dageb afcb bc aefdc ecdab fgdeca fcdbega | efabcd cedba gadfec cb: True\n",
      "aecbfdg fbg gf bafeg dbefa fcge gcbea fcaegb dgceab fcbdga | gecf egdcabf bgf bfgea: True\n",
      "fgeab ca afcebg bdacfeg cfaedg gcfdb baec bfadeg bafgc acf | gebdcfa ecba ca fadegcb: True\n",
      "dbcfg fgd bdegcaf fgec aegbdf ecdfab fbedc dacgb gdcebf gf | cefg dcbef fcge gbcadfe: True\n",
      "bdfegc cbegaf gecbf dfcage bdacg ed bedf ced adcbefg gebcd | ed bcgafe cdgba cbgef: True\n",
      "egadfb cdbfeg cegd fecab cgb gbdefca cg fgcdab egfdb bfceg | gbdfcae bgc cg cgb: True\n",
      "gcafb gcf dcaebfg ecagb gf abcdeg gaef cafbge fdbac fegbdc | fgae cfgab fg bagce: True\n"
     ]
    }
   ],
   "source": [
    "example_answers = {\n",
    "    \"be cfbegad cbdgef fgaecd cgeb fdcge agebfd fecdb fabcd edb | fdgacbe cefdb cefbgd gcbe\": 8394,\n",
    "    \"edbfga begcd cbg gc gcadebf fbgde acbgfd abcde gfcbed gfec | fcgedb cgb dgebacf gc\": 9781,\n",
    "    \"fgaebd cg bdaec gdafb agbcfd gdcbef bgcad gfac gcb cdgabef | cg cg fdcagb cbg\": 1197,\n",
    "    \"fbegcd cbd adcefb dageb afcb bc aefdc ecdab fgdeca fcdbega | efabcd cedba gadfec cb\": 9361,\n",
    "    \"aecbfdg fbg gf bafeg dbefa fcge gcbea fcaegb dgceab fcbdga | gecf egdcabf bgf bfgea\": 4873,\n",
    "    \"fgeab ca afcebg bdacfeg cfaedg gcfdb baec bfadeg bafgc acf | gebdcfa ecba ca fadegcb\": 8418,\n",
    "    \"dbcfg fgd bdegcaf fgec aegbdf ecdfab fbedc dacgb gdcebf gf | cefg dcbef fcge gbcadfe\": 4548,\n",
    "    \"bdfegc cbegaf gecbf dfcage bdacg ed bedf ced adcbefg gebcd | ed bcgafe cdgba cbgef\": 1625,\n",
    "    \"egadfb cdbfeg cegd fecab cgb gbdefca cg fgcdab egfdb bfceg | gbdfcae bgc cg cgb\": 8717,\n",
    "    \"gcafb gcf dcaebfg ecagb gf abcdeg gaef cafbge fdbac fegbdc | fgae cfgab fg bagce\": 4315,\n",
    "}\n",
    "\n",
    "for line, answer in example_answers.items():\n",
    "    print(f\"{line}: {decode(line) == answer}\")"
   ]
  },
  {
   "cell_type": "code",
   "execution_count": 12,
   "id": "598d55bd-c695-4279-aa94-21ba407fa3de",
   "metadata": {},
   "outputs": [
    {
     "name": "stdout",
     "output_type": "stream",
     "text": [
      "Answer part 2: 1004688\n"
     ]
    }
   ],
   "source": [
    "print(f\"Answer part 2: {sum([decode(line) for line in input_data])}\")"
   ]
  },
  {
   "cell_type": "code",
   "execution_count": null,
   "id": "81d32699-dbaf-4d34-843a-3b5a132e543b",
   "metadata": {},
   "outputs": [],
   "source": []
  }
 ],
 "metadata": {
  "kernelspec": {
   "display_name": "Python 3 (ipykernel)",
   "language": "python",
   "name": "python3"
  },
  "language_info": {
   "codemirror_mode": {
    "name": "ipython",
    "version": 3
   },
   "file_extension": ".py",
   "mimetype": "text/x-python",
   "name": "python",
   "nbconvert_exporter": "python",
   "pygments_lexer": "ipython3",
   "version": "3.10.1"
  }
 },
 "nbformat": 4,
 "nbformat_minor": 5
}
