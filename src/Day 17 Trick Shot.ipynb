{
 "cells": [
  {
   "cell_type": "markdown",
   "id": "e43bb3dd-d23a-4965-9945-9fae92f9648a",
   "metadata": {},
   "source": [
    "# [Day 17: Trick Shot](https://adventofcode.com/2021/day/17)"
   ]
  },
  {
   "cell_type": "code",
   "execution_count": 1,
   "id": "f403113a-3046-450b-96b3-73e3f0eecc15",
   "metadata": {},
   "outputs": [],
   "source": [
    "import dataclasses as dc\n",
    "import re"
   ]
  },
  {
   "cell_type": "markdown",
   "id": "5aaa5f1b-4edb-4d5b-82b5-39b718740d5a",
   "metadata": {},
   "source": [
    "# Notes\n",
    "\n",
    "__min and max for `vx`__\n",
    " * there is no direct relation between `x` and `y`\n",
    " * `x` is only influenced by drag: it will always get to `0`\n",
    " * max: launching with a `vx` which will overshoot the x_right of the area in one step does never make sense: __max vx = x_right of the area__\n",
    " * the minimal `vx` does not depend on `vy` but has to be simulated\n",
    "\n",
    "__min and max for `vy`__\n",
    " * `y` is not influenced by drag\n",
    " * for the minimum: launching with a `vy` which will overshoot y_bottom of the area in one shoot never makes sense: __min vy = y_bottom of the area__\n",
    " * when shooting up: the `y=0` line will always be crossed with `vy=-(vy+1)`, so to prevent overshoot `vy` has a maximum of `-(y_bottom + 1)`"
   ]
  },
  {
   "cell_type": "markdown",
   "id": "09a7a32d-1a1b-4c2f-96da-031f440c22de",
   "metadata": {},
   "source": [
    "## Part 1"
   ]
  },
  {
   "cell_type": "code",
   "execution_count": 2,
   "id": "dc7300f4-d3cf-490d-b51a-156028e3b88c",
   "metadata": {},
   "outputs": [],
   "source": [
    "example_data_part1 = {\n",
    "    \"target_area\": (20, -5, 30, -10),  # x1, y1, x2, y2\n",
    "    \"launches\": [  # v_x, v_y, max_y, expected_hit\n",
    "        (7, 2, 3, True),\n",
    "        (6, 3, 6, True),\n",
    "        (9, 0, 0, True),\n",
    "        (6, 9, 45, True),\n",
    "        (17, -4, 0, False),\n",
    "    ]\n",
    "}"
   ]
  },
  {
   "cell_type": "code",
   "execution_count": 3,
   "id": "cef876b6-709d-4fec-98e0-63161417586f",
   "metadata": {},
   "outputs": [],
   "source": [
    "@dc.dataclass\n",
    "class Probe:\n",
    "    vx: int\n",
    "    vy: int\n",
    "    x: int = 0\n",
    "    y: int = 0\n",
    "    max_y: int = 0\n",
    "\n",
    "\n",
    "    def next_step(self):\n",
    "        # adjust x\n",
    "        self.x += self.vx\n",
    "        if self.vx != 0:\n",
    "            if self.vx < 0:\n",
    "                self.vx += 1\n",
    "            else:\n",
    "                self.vx -= 1\n",
    "\n",
    "        # adjust y\n",
    "        self.y += self.vy\n",
    "        self.vy -= 1\n",
    "        \n",
    "        # track max_y\n",
    "        if self.y > self.max_y:\n",
    "            self.max_y = self.y\n",
    "\n",
    "            \n",
    "    def simulate(self, x_left, y_top, x_right, y_bottom):\n",
    "        missed = self.y < y_bottom\n",
    "        while not missed:\n",
    "            self.next_step()\n",
    "            in_target_area = (x_left <= self.x <= x_right) and (y_top >= self.y >= y_bottom)\n",
    "            if in_target_area:\n",
    "                return True, self.max_y, self.x, self.y\n",
    "            else:\n",
    "                missed = (self.y < y_bottom) or (self.x > x_right)\n",
    "        return False, self.max_y, self.x, self.y"
   ]
  },
  {
   "cell_type": "code",
   "execution_count": 4,
   "id": "d12ff39a-83b0-41e2-9582-9d69d1327be4",
   "metadata": {},
   "outputs": [
    {
     "name": "stdout",
     "output_type": "stream",
     "text": [
      "Check simulate (7, 2) -> 3: True\n",
      "Check simulate (6, 3) -> 6: True\n",
      "Check simulate (9, 0) -> 0: True\n",
      "Check simulate (6, 9) -> 45: True\n",
      "Check simulate (17, -4) -> 0: True\n"
     ]
    }
   ],
   "source": [
    "for v_x, v_y, max_y, expected_hit in example_data_part1[\"launches\"]:\n",
    "    probe = Probe(v_x, v_y)\n",
    "    hit, max_y, x, y = probe.simulate(*example_data_part1[\"target_area\"])\n",
    "    print(f\"Check simulate {v_x, v_y} -> {max_y}: {hit == expected_hit}\")"
   ]
  },
  {
   "cell_type": "code",
   "execution_count": 5,
   "id": "c00dad6b-423c-4235-8350-f1369742b27f",
   "metadata": {},
   "outputs": [],
   "source": [
    "def brute_force_simulate(x1, y1, x2, y2):\n",
    "    x_left, x_right = (x1, x2) if x1 < x2 else (x2, x1)\n",
    "    y_top, y_bottom = (y1, y2) if y1 > y2 else (y2, y1)\n",
    "\n",
    "    # maximal v_x is equal to x_right (otherwise it will overshoot)\n",
    "    max_vx = x_right\n",
    "\n",
    "    # minimal v_x is the v_x required to travel x_left distance\n",
    "    for min_vx in range(1, x_left):\n",
    "        x, vx = 0, min_vx\n",
    "        hit, max_y, x, y = Probe(vx, 0).simulate(x_left, y_top, x_right, y_bottom)\n",
    "        if x >= x_left:\n",
    "            break\n",
    "    \n",
    "    # search within v_x range for best v_y\n",
    "    best_vx, best_vy, best_max_y, n_hits = 0, 0, 0, 0\n",
    "    for vx in range(min_vx, max_vx+1):\n",
    "        for vy in range(y_bottom, -y_bottom):\n",
    "            hit, max_y, x, y = Probe(vx, vy).simulate(x_left, y_top, x_right, y_bottom)\n",
    "            if max_y > best_max_y:\n",
    "                best_vx, best_vy, best_max_y = vx, vy, max_y\n",
    "            if hit:\n",
    "                n_hits += 1\n",
    "\n",
    "    return best_vx, best_vy, best_max_y, n_hits"
   ]
  },
  {
   "cell_type": "code",
   "execution_count": 6,
   "id": "790a065d-cb36-4d54-aacc-03838ba4dd9f",
   "metadata": {},
   "outputs": [
    {
     "name": "stdout",
     "output_type": "stream",
     "text": [
      "Check part 1: True\n"
     ]
    }
   ],
   "source": [
    "vx, vy, max_y, _ = brute_force_simulate(20, -5, 30, -10)\n",
    "print(f\"Check part 1: {(vx, vy, max_y) == (6, 9, 45)}\")"
   ]
  },
  {
   "cell_type": "code",
   "execution_count": 7,
   "id": "ba86dae8-8eb9-47d6-a5ac-1aed097ba1ce",
   "metadata": {},
   "outputs": [
    {
     "name": "stdout",
     "output_type": "stream",
     "text": [
      "Input check: True\n"
     ]
    }
   ],
   "source": [
    "with open(r\"..\\data\\Day 17 input.txt\", \"r\") as fh_in:\n",
    "    input_data = fh_in.readline().strip()\n",
    "    # target area: x=48..70, y=-189..-148\n",
    "    area = tuple(map(int, re.match(r\".*x\\=([-+]?\\d+)\\.{2}([-+]?\\d+).*y\\=([-+]?\\d+)\\.{2}([-+]?\\d+)\", input_data).groups()))\n",
    "    area = (area[0], area[2], area[1], area[3])\n",
    "print(f\"Input check: {len(area) == 4}\")"
   ]
  },
  {
   "cell_type": "code",
   "execution_count": 8,
   "id": "83b471ef-3bea-402f-82a7-a001e148a814",
   "metadata": {},
   "outputs": [
    {
     "name": "stdout",
     "output_type": "stream",
     "text": [
      "Answer part 1: 17766\n"
     ]
    }
   ],
   "source": [
    "vx, vy, max_y, _ = brute_force_simulate(*area)\n",
    "print(f\"Answer part 1: {max_y}\")"
   ]
  },
  {
   "cell_type": "markdown",
   "id": "5810291d-528b-4edc-b11f-ed6a780bf598",
   "metadata": {},
   "source": [
    "## Part 2"
   ]
  },
  {
   "cell_type": "code",
   "execution_count": 9,
   "id": "a1d125a5-ace3-4af0-a55b-5278378b562d",
   "metadata": {},
   "outputs": [
    {
     "name": "stdout",
     "output_type": "stream",
     "text": [
      "Check part 2: True\n"
     ]
    }
   ],
   "source": [
    "vx, vy, max_y, n_hits = brute_force_simulate(20, -5, 30, -10)\n",
    "print(f\"Check part 2: {(vx, vy, max_y, n_hits) == (6, 9, 45, 112)}\")"
   ]
  },
  {
   "cell_type": "code",
   "execution_count": 10,
   "id": "55a8dbcc-d88a-4558-b122-428a28e22362",
   "metadata": {},
   "outputs": [
    {
     "name": "stdout",
     "output_type": "stream",
     "text": [
      "Answer part 2: 1733\n"
     ]
    }
   ],
   "source": [
    "vx, vy, max_y, n_hits = brute_force_simulate(*area)\n",
    "print(f\"Answer part 2: {n_hits}\")"
   ]
  }
 ],
 "metadata": {
  "kernelspec": {
   "display_name": "Python 3 (ipykernel)",
   "language": "python",
   "name": "python3"
  },
  "language_info": {
   "codemirror_mode": {
    "name": "ipython",
    "version": 3
   },
   "file_extension": ".py",
   "mimetype": "text/x-python",
   "name": "python",
   "nbconvert_exporter": "python",
   "pygments_lexer": "ipython3",
   "version": "3.10.1"
  }
 },
 "nbformat": 4,
 "nbformat_minor": 5
}
