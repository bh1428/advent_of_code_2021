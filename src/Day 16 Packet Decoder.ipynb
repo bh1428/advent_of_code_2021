{
 "cells": [
  {
   "cell_type": "markdown",
   "id": "e43bb3dd-d23a-4965-9945-9fae92f9648a",
   "metadata": {},
   "source": [
    "# [Day 16: Packet Decoder](https://adventofcode.com/2021/day/16)"
   ]
  },
  {
   "cell_type": "code",
   "execution_count": 1,
   "id": "d44d12cf-dcdf-4653-b65f-c2f3cae14df7",
   "metadata": {},
   "outputs": [],
   "source": [
    "import dataclasses as dc\n",
    "import math\n",
    "from typing import Generator"
   ]
  },
  {
   "cell_type": "markdown",
   "id": "09a7a32d-1a1b-4c2f-96da-031f440c22de",
   "metadata": {},
   "source": [
    "## Part 1"
   ]
  },
  {
   "cell_type": "code",
   "execution_count": 2,
   "id": "0e2c95d3-e369-43ae-ae18-b15dcb4989a2",
   "metadata": {},
   "outputs": [],
   "source": [
    "example_data_part1 = {\n",
    "    (\"620080001611562C8802118E34\", 12),\n",
    "    (\"8A004A801A8002F478\", 16),\n",
    "    (\"C0015000016115A2E0802F182340\", 23),\n",
    "    (\"A0016C880162017C3686B18A3D4780\", 31),\n",
    "}"
   ]
  },
  {
   "cell_type": "code",
   "execution_count": 3,
   "id": "464948e2-973a-486c-b281-eb94563fdbe0",
   "metadata": {},
   "outputs": [],
   "source": [
    "def bit_stream_generator(input_data: str) -> Generator[str, None, None]:\n",
    "    for hex_start in range(0, len(input_data), 2):\n",
    "        for byte_as_bits in [('00000000' + f\"{int(input_data[hex_start:hex_start+2], 16):b}\")[-8:]]:\n",
    "            for bit in byte_as_bits:\n",
    "                yield bit\n",
    "\n",
    "\n",
    "def get_bits(bit_stream: Generator[str, None, None], n: int) -> int:\n",
    "    return int(\"\".join([next(bit_stream) for i in range(n)]), 2)\n",
    "\n",
    "\n",
    "def read_literal(bit_stream: Generator[str, None, None]) -> [int, int, int]:\n",
    "    literal = 0\n",
    "    bit_counter = 0\n",
    "    not_done = True\n",
    "    while not_done:\n",
    "        # read 5 bits\n",
    "        block = get_bits(bit_stream, 5)\n",
    "        bit_counter += 5\n",
    "        # when first bit is 0: last block\n",
    "        if block < 0x10:\n",
    "            not_done = False\n",
    "        # calculate new literal\n",
    "        literal = literal * 0x10 + (block & 0xF)\n",
    "    return 0, literal, bit_counter\n",
    "\n",
    "\n",
    "def read_operator(bit_stream: Generator[str, None, None]) -> [int, int, int]:\n",
    "    ## first bit is length type id: 0=bit counter, 1=packet counter\n",
    "    length_type_id = get_bits(bit_stream, 1)\n",
    "    bit_counter = 1\n",
    "    \n",
    "    # read the counter (either bits or packets)\n",
    "    if length_type_id == 0:\n",
    "        # type 0: next 15 bits is length in bits of sub-packets\n",
    "        counter = get_bits(bit_stream, 15)\n",
    "        bit_counter += 15\n",
    "    else:\n",
    "        # type 1: next 11 bits is the number of sub-packets\n",
    "        counter = get_bits(bit_stream, 11)\n",
    "        bit_counter += 11\n",
    "\n",
    "    # process all sub packets\n",
    "    version_sum = 0\n",
    "    values = []\n",
    "    while counter > 0: \n",
    "        sub_version_sum, value, bits_read = read_packet(bit_stream)\n",
    "        values.append(value)\n",
    "        version_sum += sub_version_sum\n",
    "        bit_counter += bits_read\n",
    "        if length_type_id == 0:\n",
    "            # type 0: count bits\n",
    "            counter -= bits_read\n",
    "        else:\n",
    "            # type 1: count packets\n",
    "            counter -= 1\n",
    "    \n",
    "    return version_sum, values, bit_counter\n",
    "\n",
    "\n",
    "def operate(type_id: int, values: list[int]) -> int:\n",
    "    if type_id == 0:  # sum\n",
    "        return sum(values)\n",
    "    elif type_id == 1:  # product\n",
    "        return math.prod(values)\n",
    "    elif type_id == 2:  # minimum\n",
    "        return min(values)\n",
    "    elif type_id == 3:  # maximum\n",
    "        return max(values)\n",
    "    elif type_id == 5:  # greater\n",
    "        return 1 if values[0] > values[1] else 0\n",
    "    elif type_id == 6:  # less\n",
    "        return 1 if values[0] < values[1] else 0\n",
    "    elif type_id == 7:  # equal\n",
    "        return 1 if values[0] == values[1] else 0\n",
    "    else:\n",
    "        return 0  # shouldn't happen, just in case\n",
    "    \n",
    "    \n",
    "def read_packet(bit_stream: Generator[str, None, None]) -> [int, int, int]:\n",
    "    # first 3 bits: version\n",
    "    version = get_bits(bit_stream, 3)\n",
    "    # next 3 bits: packet type id\n",
    "    type_id = get_bits(bit_stream, 3)\n",
    "    bit_counter = 6\n",
    "    \n",
    "    # process one packet\n",
    "    if type_id == 4:\n",
    "        # type 4: literal value packet\n",
    "        version_sum, value, bits_read = read_literal(bit_stream)\n",
    "        bit_counter += bits_read\n",
    "    else:\n",
    "        # type != 4: operator packet\n",
    "        version_sum, values, bits_read = read_operator(bit_stream)\n",
    "        bit_counter += bits_read\n",
    "        value = operate(type_id, values)\n",
    "\n",
    "    return version+version_sum, value, bit_counter"
   ]
  },
  {
   "cell_type": "code",
   "execution_count": 4,
   "id": "0f14460e-75e3-43e6-81ec-4e429b73824a",
   "metadata": {},
   "outputs": [
    {
     "name": "stdout",
     "output_type": "stream",
     "text": [
      "Check part 1 (8A004A801A8002F478): True\n",
      "Check part 1 (A0016C880162017C3686B18A3D4780): True\n",
      "Check part 1 (C0015000016115A2E0802F182340): True\n",
      "Check part 1 (620080001611562C8802118E34): True\n"
     ]
    }
   ],
   "source": [
    "for example_data, expected in example_data_part1:\n",
    "    version_sum, value, bits_read = read_packet(bit_stream_generator(example_data))\n",
    "    print(f\"Check part 1 ({example_data}): {version_sum == expected}\")"
   ]
  },
  {
   "cell_type": "code",
   "execution_count": 5,
   "id": "ffad8fe1-00a1-447a-b1e2-aa06ef6f1f50",
   "metadata": {},
   "outputs": [
    {
     "name": "stdout",
     "output_type": "stream",
     "text": [
      "Input check: True\n"
     ]
    }
   ],
   "source": [
    "with open(r\"..\\data\\Day 16 input.txt\", \"r\") as fh_in:\n",
    "    input_data = fh_in.readline().strip()\n",
    "print(f\"Input check: {len(input_data) == 1370}\")"
   ]
  },
  {
   "cell_type": "code",
   "execution_count": 6,
   "id": "81d5f98a-31df-413b-bcd1-027ee520fd4b",
   "metadata": {},
   "outputs": [
    {
     "name": "stdout",
     "output_type": "stream",
     "text": [
      "Answer part 1: 877\n"
     ]
    }
   ],
   "source": [
    "print(f\"Answer part 1: {read_packet(bit_stream_generator(input_data))[0]}\")"
   ]
  },
  {
   "cell_type": "markdown",
   "id": "5810291d-528b-4edc-b11f-ed6a780bf598",
   "metadata": {},
   "source": [
    "## Part 2"
   ]
  },
  {
   "cell_type": "code",
   "execution_count": 7,
   "id": "27a56aaa-fddc-49ec-9bde-8ec6277c2bbc",
   "metadata": {},
   "outputs": [],
   "source": [
    "example_data_part2 = {\n",
    "    (\"C200B40A82\", 3),\n",
    "    (\"04005AC33890\", 54),\n",
    "    (\"880086C3E88112\", 7),\n",
    "    (\"CE00C43D881120\", 9),\n",
    "    (\"D8005AC2A8F0\", 1),\n",
    "    (\"F600BC2D8F\", 0),\n",
    "    (\"9C005AC2F8F0\", 0),\n",
    "    (\"9C0141080250320F1802104A08\", 1),\n",
    "}"
   ]
  },
  {
   "cell_type": "code",
   "execution_count": 8,
   "id": "77b45b3f-e9d6-4c35-9144-1861aa4afc0f",
   "metadata": {},
   "outputs": [
    {
     "name": "stdout",
     "output_type": "stream",
     "text": [
      "Check part 2 (D8005AC2A8F0): True\n",
      "Check part 2 (880086C3E88112): True\n",
      "Check part 2 (9C0141080250320F1802104A08): True\n",
      "Check part 2 (9C005AC2F8F0): True\n",
      "Check part 2 (C200B40A82): True\n",
      "Check part 2 (F600BC2D8F): True\n",
      "Check part 2 (04005AC33890): True\n",
      "Check part 2 (CE00C43D881120): True\n"
     ]
    }
   ],
   "source": [
    "for example_data, expected in example_data_part2:\n",
    "    version_sum, value, bits_read = read_packet(bit_stream_generator(example_data))\n",
    "    print(f\"Check part 2 ({example_data}): {value == expected}\")"
   ]
  },
  {
   "cell_type": "code",
   "execution_count": 9,
   "id": "fd67fdcf-85a0-4bf1-b55c-7f3830ae55bc",
   "metadata": {},
   "outputs": [
    {
     "name": "stdout",
     "output_type": "stream",
     "text": [
      "Answer part 2: 194435634456\n"
     ]
    }
   ],
   "source": [
    "print(f\"Answer part 2: {read_packet(bit_stream_generator(input_data))[1]}\")"
   ]
  },
  {
   "cell_type": "code",
   "execution_count": null,
   "id": "b4f89461-69c3-4e6e-bd6d-b4c78db8ea02",
   "metadata": {},
   "outputs": [],
   "source": []
  }
 ],
 "metadata": {
  "kernelspec": {
   "display_name": "Python 3 (ipykernel)",
   "language": "python",
   "name": "python3"
  },
  "language_info": {
   "codemirror_mode": {
    "name": "ipython",
    "version": 3
   },
   "file_extension": ".py",
   "mimetype": "text/x-python",
   "name": "python",
   "nbconvert_exporter": "python",
   "pygments_lexer": "ipython3",
   "version": "3.10.1"
  }
 },
 "nbformat": 4,
 "nbformat_minor": 5
}
