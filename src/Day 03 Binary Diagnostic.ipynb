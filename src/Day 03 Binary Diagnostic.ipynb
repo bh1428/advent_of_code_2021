{
 "cells": [
  {
   "cell_type": "markdown",
   "id": "556d0f5c-95be-46b5-9a8d-93710b9af5c7",
   "metadata": {},
   "source": [
    "# [Day 3: Binary Diagnostic](https://adventofcode.com/2021/day/3)"
   ]
  },
  {
   "cell_type": "code",
   "execution_count": 1,
   "id": "4db0eee9-4a61-4d94-bd75-b44745d82191",
   "metadata": {},
   "outputs": [],
   "source": [
    "import collections as cl"
   ]
  },
  {
   "cell_type": "markdown",
   "id": "c0bc1313-3c0e-48b1-9a22-489d5be5588c",
   "metadata": {},
   "source": [
    "## Part 1"
   ]
  },
  {
   "cell_type": "code",
   "execution_count": 2,
   "id": "d528c47c-e873-4794-b4d0-c030b8e14ad9",
   "metadata": {},
   "outputs": [],
   "source": [
    "example_data = [\n",
    "    \"00100\",\n",
    "    \"11110\",\n",
    "    \"10110\",\n",
    "    \"10111\",\n",
    "    \"10101\",\n",
    "    \"01111\",\n",
    "    \"00111\",\n",
    "    \"11100\",\n",
    "    \"10000\",\n",
    "    \"11001\",\n",
    "    \"00010\",\n",
    "    \"01010\",\n",
    "]"
   ]
  },
  {
   "cell_type": "code",
   "execution_count": 3,
   "id": "0e68d238-89a5-4453-af27-8d77dccaeada",
   "metadata": {},
   "outputs": [],
   "source": [
    "def get_power_consumption(measurements):\n",
    "    gamma = []\n",
    "    for position in range(len(measurements[0])):\n",
    "        gamma += cl.Counter([m[position] for m in measurements]).most_common()[0][0]\n",
    "    epsilon = [\"1\" if m == \"0\" else \"0\" for m in gamma]\n",
    "\n",
    "    return int(\"\".join(gamma), 2) * int(\"\".join(epsilon), 2)"
   ]
  },
  {
   "cell_type": "code",
   "execution_count": 4,
   "id": "c9411a3a",
   "metadata": {},
   "outputs": [
    {
     "name": "stdout",
     "output_type": "stream",
     "text": [
      "Check part 1: True\n"
     ]
    }
   ],
   "source": [
    "print(f\"Check part 1: {get_power_consumption(example_data) == 198}\")"
   ]
  },
  {
   "cell_type": "code",
   "execution_count": 5,
   "id": "ce826425-f97c-4416-8aff-038e6fbcae21",
   "metadata": {},
   "outputs": [
    {
     "name": "stdout",
     "output_type": "stream",
     "text": [
      "Input line check: True\n"
     ]
    }
   ],
   "source": [
    "with open(r\"..\\data\\Day 03 input.txt\", \"r\") as fh_in:\n",
    "    diag_report = [line.strip() for line in fh_in if line.strip()]\n",
    "print(f\"Input line check: {len(diag_report) == 1000}\")"
   ]
  },
  {
   "cell_type": "code",
   "execution_count": 6,
   "id": "8e34a506-997c-4335-89eb-9b3a0e1de503",
   "metadata": {},
   "outputs": [
    {
     "name": "stdout",
     "output_type": "stream",
     "text": [
      "Answer part 1: 4174964\n"
     ]
    }
   ],
   "source": [
    "print(f\"Answer part 1: {get_power_consumption(diag_report)}\")"
   ]
  },
  {
   "cell_type": "markdown",
   "id": "5e4617b1-e1c0-4a2f-8f20-665c94a40b3b",
   "metadata": {},
   "source": [
    "## Part 2"
   ]
  },
  {
   "cell_type": "code",
   "execution_count": 7,
   "id": "96049375-194d-42fd-a1da-3fc61133e771",
   "metadata": {},
   "outputs": [],
   "source": [
    "def get_rating(diag_report, gas):\n",
    "    keep_list = list(diag_report)\n",
    "    for position in range(len(keep_list[0])):\n",
    "        # get most or least common value\n",
    "        cnt = cl.Counter([m[position] for m in keep_list])\n",
    "        if cnt[\"0\"] != cnt[\"1\"]:\n",
    "            if gas == \"oxygen\":\n",
    "                keep_value = cnt.most_common()[0][0]\n",
    "            else:\n",
    "                keep_value = cnt.most_common()[1][0]\n",
    "        else:\n",
    "            if gas == \"oxygen\":\n",
    "                keep_value = \"1\"\n",
    "            else:\n",
    "                keep_value = \"0\"\n",
    "        # filter list\n",
    "        new_keep_list = []\n",
    "        for value in keep_list:\n",
    "            if value[position] == keep_value:\n",
    "                new_keep_list.append(value)\n",
    "        keep_list = new_keep_list\n",
    "        # return if only one left\n",
    "        if len(keep_list) == 1:\n",
    "            return int(\"\".join(keep_list[0]), 2)\n",
    "\n",
    "\n",
    "def life_support_rating(diag_report):\n",
    "    return get_rating(diag_report, \"oxygen\") * get_rating(diag_report, \"co2\")"
   ]
  },
  {
   "cell_type": "code",
   "execution_count": 8,
   "id": "f160182f-7eeb-44ff-8fca-4fd4c0f17be0",
   "metadata": {},
   "outputs": [
    {
     "name": "stdout",
     "output_type": "stream",
     "text": [
      "Check part 2 with oxygen: True\n",
      "Check part 2 with co2: True\n",
      "Check part 2 life support rating: True\n"
     ]
    }
   ],
   "source": [
    "print(f\"Check part 2 with oxygen: {get_rating(example_data, 'oxygen') == 23}\")\n",
    "print(f\"Check part 2 with co2: {get_rating(example_data, 'co2') == 10}\")\n",
    "print(f\"Check part 2 life support rating: {life_support_rating(example_data) == 230}\")"
   ]
  },
  {
   "cell_type": "code",
   "execution_count": 9,
   "id": "0106a827-f660-4b1c-8c80-a89d7f3f6ac8",
   "metadata": {},
   "outputs": [
    {
     "name": "stdout",
     "output_type": "stream",
     "text": [
      "Answer part 2: 4474944\n"
     ]
    }
   ],
   "source": [
    "print(f\"Answer part 2: {life_support_rating(diag_report)}\")"
   ]
  },
  {
   "cell_type": "code",
   "execution_count": null,
   "id": "bf82b89a-1a95-4759-bbb6-f16b6501ce3b",
   "metadata": {},
   "outputs": [],
   "source": []
  }
 ],
 "metadata": {
  "kernelspec": {
   "display_name": "Python 3 (ipykernel)",
   "language": "python",
   "name": "python3"
  },
  "language_info": {
   "codemirror_mode": {
    "name": "ipython",
    "version": 3
   },
   "file_extension": ".py",
   "mimetype": "text/x-python",
   "name": "python",
   "nbconvert_exporter": "python",
   "pygments_lexer": "ipython3",
   "version": "3.10.0"
  }
 },
 "nbformat": 4,
 "nbformat_minor": 5
}
