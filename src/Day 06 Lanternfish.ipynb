{
 "cells": [
  {
   "cell_type": "markdown",
   "id": "52aef38c-6bd5-4377-b5fb-7ea2d1e71b28",
   "metadata": {},
   "source": [
    "# [Day 6: Lanternfish](https://adventofcode.com/2021/day/6)"
   ]
  },
  {
   "cell_type": "code",
   "execution_count": 1,
   "id": "83186768-405e-4463-8b30-e10955887834",
   "metadata": {},
   "outputs": [],
   "source": [
    "import collections as cl"
   ]
  },
  {
   "cell_type": "markdown",
   "id": "90cab8b4-70fd-4c01-b5ed-aebc3765f5ff",
   "metadata": {},
   "source": [
    "## Part 1"
   ]
  },
  {
   "cell_type": "code",
   "execution_count": 2,
   "id": "5dd452fb-0d22-4d11-b35b-fb757b962703",
   "metadata": {},
   "outputs": [],
   "source": [
    "example_data = [3, 4, 3, 1, 2]"
   ]
  },
  {
   "cell_type": "code",
   "execution_count": 3,
   "id": "c7aed14f-e73c-472c-8865-f44279d62bc4",
   "metadata": {},
   "outputs": [],
   "source": [
    "class School:\n",
    "    def __init__(self, initial_ages):\n",
    "        self.fish = dict(cl.Counter(initial_ages))\n",
    "\n",
    "    def next_day(self):\n",
    "        n_offspring = self.fish.get(0, 0)\n",
    "        self.fish = {age-1: n for age, n in self.fish.items() if age != 0}\n",
    "        if n_offspring:\n",
    "            self.fish[6] = self.fish.get(6, 0) + n_offspring\n",
    "            self.fish[8] = n_offspring\n",
    "\n",
    "    def run(self, days):\n",
    "        for day in range(days):\n",
    "            self.next_day()\n",
    "\n",
    "    @property\n",
    "    def total(self):\n",
    "        return sum(self.fish.values())"
   ]
  },
  {
   "cell_type": "code",
   "execution_count": 4,
   "id": "a5259722-ade3-4dd6-9a0c-ba058ecf1391",
   "metadata": {},
   "outputs": [
    {
     "name": "stdout",
     "output_type": "stream",
     "text": [
      "Check part 1 (18 days): True\n",
      "Check part 1 (80 days): True\n"
     ]
    }
   ],
   "source": [
    "school = School(example_data)\n",
    "school.run(18)\n",
    "print(f\"Check part 1 (18 days): {school.total == 26}\")\n",
    "school.run(80-18)\n",
    "print(f\"Check part 1 (80 days): {school.total == 5934}\")"
   ]
  },
  {
   "cell_type": "code",
   "execution_count": 5,
   "id": "2593b941-e671-43d7-b228-11d258dab359",
   "metadata": {},
   "outputs": [
    {
     "name": "stdout",
     "output_type": "stream",
     "text": [
      "Input check: True\n"
     ]
    }
   ],
   "source": [
    "with open(r\"..\\data\\Day 06 input.txt\", \"r\") as fh_in:\n",
    "    initial_ages = list(map(int, fh_in.readlines()[0].split(\",\")))\n",
    "print(f\"Input check: {len(initial_ages) == 300}\")"
   ]
  },
  {
   "cell_type": "code",
   "execution_count": 6,
   "id": "a1c907e0-61bb-4df4-b4af-d6fac5ae7cfd",
   "metadata": {},
   "outputs": [
    {
     "name": "stdout",
     "output_type": "stream",
     "text": [
      "Answer part 1: 346063\n"
     ]
    }
   ],
   "source": [
    "school = School(initial_ages)\n",
    "school.run(80)\n",
    "print(f\"Answer part 1: {school.total}\")"
   ]
  },
  {
   "cell_type": "markdown",
   "id": "5810291d-528b-4edc-b11f-ed6a780bf598",
   "metadata": {},
   "source": [
    "## Part 2"
   ]
  },
  {
   "cell_type": "code",
   "execution_count": 7,
   "id": "f1b532b1-b23b-4a69-96c6-27c29744f2d8",
   "metadata": {},
   "outputs": [
    {
     "name": "stdout",
     "output_type": "stream",
     "text": [
      "Check part 2 (256 days): True\n"
     ]
    }
   ],
   "source": [
    "school = School(example_data)\n",
    "school.run(256)\n",
    "print(f\"Check part 2 (256 days): {school.total == 26984457539}\")"
   ]
  },
  {
   "cell_type": "code",
   "execution_count": 10,
   "id": "ae2b31f7-fcaa-472c-a180-46d182c40127",
   "metadata": {},
   "outputs": [
    {
     "name": "stdout",
     "output_type": "stream",
     "text": [
      "Answer part 2: 1572358335990\n"
     ]
    }
   ],
   "source": [
    "school = School(initial_ages)\n",
    "school.run(256)\n",
    "print(f\"Answer part 2: {school.total}\")"
   ]
  },
  {
   "cell_type": "code",
   "execution_count": null,
   "id": "2b1025b1-1469-4885-b2c1-0006370f6499",
   "metadata": {},
   "outputs": [],
   "source": []
  }
 ],
 "metadata": {
  "kernelspec": {
   "display_name": "Python 3 (ipykernel)",
   "language": "python",
   "name": "python3"
  },
  "language_info": {
   "codemirror_mode": {
    "name": "ipython",
    "version": 3
   },
   "file_extension": ".py",
   "mimetype": "text/x-python",
   "name": "python",
   "nbconvert_exporter": "python",
   "pygments_lexer": "ipython3",
   "version": "3.10.0"
  }
 },
 "nbformat": 4,
 "nbformat_minor": 5
}
