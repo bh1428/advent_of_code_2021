{
 "cells": [
  {
   "cell_type": "markdown",
   "id": "e43bb3dd-d23a-4965-9945-9fae92f9648a",
   "metadata": {},
   "source": [
    "# [Day 12: Passage Pathing](https://adventofcode.com/2021/day/12)"
   ]
  },
  {
   "cell_type": "code",
   "execution_count": 1,
   "id": "5b0f0384-fc3c-459b-bf1b-2b8a2dd17a16",
   "metadata": {},
   "outputs": [],
   "source": [
    "import collections as cl"
   ]
  },
  {
   "cell_type": "markdown",
   "id": "4a0e7528-f417-4842-8161-9b818dc4569a",
   "metadata": {},
   "source": [
    "## Part 1"
   ]
  },
  {
   "cell_type": "code",
   "execution_count": 2,
   "id": "0e2c95d3-e369-43ae-ae18-b15dcb4989a2",
   "metadata": {},
   "outputs": [],
   "source": [
    "small_example_data = [\n",
    "    \"start-A\",\n",
    "    \"start-b\",\n",
    "    \"A-c\",\n",
    "    \"A-b\",\n",
    "    \"b-d\",\n",
    "    \"A-end\",\n",
    "    \"b-end\",\n",
    "]\n",
    "\n",
    "small_example_expected_1 = sorted([\n",
    "    \"start,A,b,A,c,A,end\",\n",
    "    \"start,A,b,A,end\",\n",
    "    \"start,A,b,end\",\n",
    "    \"start,A,c,A,b,A,end\",\n",
    "    \"start,A,c,A,b,end\",\n",
    "    \"start,A,c,A,end\",\n",
    "    \"start,A,end\",\n",
    "    \"start,b,A,c,A,end\",\n",
    "    \"start,b,A,end\",\n",
    "    \"start,b,end\",\n",
    "])\n",
    "\n",
    "small_example_expected_2 = sorted([\n",
    "    \"start,A,b,A,b,A,c,A,end\",\n",
    "    \"start,A,b,A,b,A,end\",\n",
    "    \"start,A,b,A,b,end\",\n",
    "    \"start,A,b,A,c,A,b,A,end\",\n",
    "    \"start,A,b,A,c,A,b,end\",\n",
    "    \"start,A,b,A,c,A,c,A,end\",\n",
    "    \"start,A,b,A,c,A,end\",\n",
    "    \"start,A,b,A,end\",\n",
    "    \"start,A,b,d,b,A,c,A,end\",\n",
    "    \"start,A,b,d,b,A,end\",\n",
    "    \"start,A,b,d,b,end\",\n",
    "    \"start,A,b,end\",\n",
    "    \"start,A,c,A,b,A,b,A,end\",\n",
    "    \"start,A,c,A,b,A,b,end\",\n",
    "    \"start,A,c,A,b,A,c,A,end\",\n",
    "    \"start,A,c,A,b,A,end\",\n",
    "    \"start,A,c,A,b,d,b,A,end\",\n",
    "    \"start,A,c,A,b,d,b,end\",\n",
    "    \"start,A,c,A,b,end\",\n",
    "    \"start,A,c,A,c,A,b,A,end\",\n",
    "    \"start,A,c,A,c,A,b,end\",\n",
    "    \"start,A,c,A,c,A,end\",\n",
    "    \"start,A,c,A,end\",\n",
    "    \"start,A,end\",\n",
    "    \"start,b,A,b,A,c,A,end\",\n",
    "    \"start,b,A,b,A,end\",\n",
    "    \"start,b,A,b,end\",\n",
    "    \"start,b,A,c,A,b,A,end\",\n",
    "    \"start,b,A,c,A,b,end\",\n",
    "    \"start,b,A,c,A,c,A,end\",\n",
    "    \"start,b,A,c,A,end\",\n",
    "    \"start,b,A,end\",\n",
    "    \"start,b,d,b,A,c,A,end\",\n",
    "    \"start,b,d,b,A,end\",\n",
    "    \"start,b,d,b,end\",\n",
    "    \"start,b,end\",\n",
    "])\n",
    "\n",
    "slightly_larger_data = [\n",
    "    \"dc-end\",\n",
    "    \"HN-start\",\n",
    "    \"start-kj\",\n",
    "    \"dc-start\",\n",
    "    \"dc-HN\",\n",
    "    \"LN-dc\",\n",
    "    \"HN-end\",\n",
    "    \"kj-sa\",\n",
    "    \"kj-HN\",\n",
    "    \"kj-dc\",\n",
    "]\n",
    "\n",
    "slightly_larger_expected_1 = sorted([\n",
    "    \"start,HN,dc,HN,end\",\n",
    "    \"start,HN,dc,HN,kj,HN,end\",\n",
    "    \"start,HN,dc,end\",\n",
    "    \"start,HN,dc,kj,HN,end\",\n",
    "    \"start,HN,end\",\n",
    "    \"start,HN,kj,HN,dc,HN,end\",\n",
    "    \"start,HN,kj,HN,dc,end\",\n",
    "    \"start,HN,kj,HN,end\",\n",
    "    \"start,HN,kj,dc,HN,end\",\n",
    "    \"start,HN,kj,dc,end\",\n",
    "    \"start,dc,HN,end\",\n",
    "    \"start,dc,HN,kj,HN,end\",\n",
    "    \"start,dc,end\",\n",
    "    \"start,dc,kj,HN,end\",\n",
    "    \"start,kj,HN,dc,HN,end\",\n",
    "    \"start,kj,HN,dc,end\",\n",
    "    \"start,kj,HN,end\",\n",
    "    \"start,kj,dc,HN,end\",\n",
    "    \"start,kj,dc,end\",\n",
    "])\n",
    "\n",
    "even_larger_data = [\n",
    "    \"fs-end\",\n",
    "    \"he-DX\",\n",
    "    \"fs-he\",\n",
    "    \"start-DX\",\n",
    "    \"pj-DX\",\n",
    "    \"end-zg\",\n",
    "    \"zg-sl\",\n",
    "    \"zg-pj\",\n",
    "    \"pj-he\",\n",
    "    \"RW-he\",\n",
    "    \"fs-DX\",\n",
    "    \"pj-RW\",\n",
    "    \"zg-RW\",\n",
    "    \"start-pj\",\n",
    "    \"he-WI\",\n",
    "    \"zg-he\",\n",
    "    \"pj-fs\",\n",
    "    \"start-RW\",\n",
    "]"
   ]
  },
  {
   "cell_type": "code",
   "execution_count": 3,
   "id": "bdf3e960-3511-4f7b-8bf1-0397d97dd9d0",
   "metadata": {},
   "outputs": [],
   "source": [
    "def create_node(name):\n",
    "    # (name, is_large_cave, is_start, is_end)\n",
    "    return name, name.isupper(), name != \"start\", name == \"end\"\n",
    "\n",
    "def parse_graph(data):\n",
    "    graph = {}\n",
    "    for edge in data:\n",
    "        begin, end = map(str.strip, edge.split(\"-\"))\n",
    "        for node in (begin, end):\n",
    "            if node not in graph:\n",
    "                graph[node] = set()\n",
    "        graph[begin].add(create_node(end))\n",
    "        graph[end].add(create_node(begin))\n",
    "    return graph\n",
    "\n",
    "def get_paths1(graph):\n",
    "    start_cave = \"start\"\n",
    "    todo = cl.deque()\n",
    "    todo.append(([], create_node(start_cave)))\n",
    "    paths_found = []\n",
    "    while todo:\n",
    "        # next cave information\n",
    "        path_before_this_cave, (next_cave, next_islarge, next_notstart, next_isend) = todo.popleft()\n",
    "        path_to_this_cave = [*path_before_this_cave, next_cave]\n",
    "\n",
    "        # are we going to visit the next cave?\n",
    "        visit = False\n",
    "        if next_isend:\n",
    "            # 'end' cave: visit but last in path, just store\n",
    "            paths_found.append(\",\".join(path_to_this_cave))\n",
    "        elif next_islarge:\n",
    "            # large cave: always visit\n",
    "            visit = True\n",
    "        elif next_cave not in path_before_this_cave:\n",
    "            # small cave: visit when not visited before\n",
    "            visit = True\n",
    "\n",
    "        # when we visit the next cave we have to investigate its neighbours\n",
    "        if visit:\n",
    "            for cave in graph[next_cave]:\n",
    "                todo.append((path_to_this_cave, cave))\n",
    "\n",
    "    return sorted(paths_found)"
   ]
  },
  {
   "cell_type": "code",
   "execution_count": 4,
   "id": "cf8a788c-9d5d-495c-b023-a7cd4c6e3245",
   "metadata": {},
   "outputs": [
    {
     "name": "stdout",
     "output_type": "stream",
     "text": [
      "Check part 1 (small example): True\n",
      "Check part 1 (small example): True\n"
     ]
    }
   ],
   "source": [
    "graph = parse_graph(small_example_data)\n",
    "print(f\"Check part 1 (small example): {len(get_paths1(graph)) == 10}\")\n",
    "print(f\"Check part 1 (small example): {get_paths1(graph) == small_example_expected_1}\")"
   ]
  },
  {
   "cell_type": "code",
   "execution_count": 5,
   "id": "e5e011a4-3a89-43ab-91c3-bef001648bbd",
   "metadata": {},
   "outputs": [
    {
     "name": "stdout",
     "output_type": "stream",
     "text": [
      "Check part 1 (slightly larger): True\n",
      "Check part 1 (slightly larger): True\n"
     ]
    }
   ],
   "source": [
    "graph = parse_graph(slightly_larger_data)\n",
    "print(f\"Check part 1 (slightly larger): {len(get_paths1(graph)) == 19}\")\n",
    "print(f\"Check part 1 (slightly larger): {get_paths1(graph) == slightly_larger_expected_1}\")"
   ]
  },
  {
   "cell_type": "code",
   "execution_count": 6,
   "id": "58a00231-4766-4f52-b927-8197672a39cb",
   "metadata": {},
   "outputs": [
    {
     "name": "stdout",
     "output_type": "stream",
     "text": [
      "Check part 1 (even larger): True\n"
     ]
    }
   ],
   "source": [
    "graph = parse_graph(even_larger_data)\n",
    "print(f\"Check part 1 (even larger): {len(get_paths1(graph)) == 226}\")"
   ]
  },
  {
   "cell_type": "code",
   "execution_count": 7,
   "id": "2593b941-e671-43d7-b228-11d258dab359",
   "metadata": {},
   "outputs": [
    {
     "name": "stdout",
     "output_type": "stream",
     "text": [
      "Input check: True\n"
     ]
    }
   ],
   "source": [
    "with open(r\"..\\data\\Day 12 input.txt\", \"r\") as fh_in:\n",
    "    input_data = [line.strip() for line in fh_in]\n",
    "print(f\"Input check: {len(input_data) == 20}\")"
   ]
  },
  {
   "cell_type": "code",
   "execution_count": 8,
   "id": "f2fbf53d-a015-4ff6-81bc-8b22166348b2",
   "metadata": {},
   "outputs": [
    {
     "name": "stdout",
     "output_type": "stream",
     "text": [
      "Answer part 1: 5254\n"
     ]
    }
   ],
   "source": [
    "graph = parse_graph(input_data)\n",
    "print(f\"Answer part 1: {len(get_paths1(graph))}\")"
   ]
  },
  {
   "cell_type": "markdown",
   "id": "5810291d-528b-4edc-b11f-ed6a780bf598",
   "metadata": {},
   "source": [
    "## Part 2"
   ]
  },
  {
   "cell_type": "code",
   "execution_count": 9,
   "id": "3a4bc464-71f9-46ed-9735-dedcc0db5c70",
   "metadata": {},
   "outputs": [],
   "source": [
    "def get_paths2(graph):\n",
    "    start_cave = \"start\"\n",
    "    todo = cl.deque()\n",
    "    todo.append(([], create_node(start_cave), True))\n",
    "    paths_found = []\n",
    "    while todo:\n",
    "        # next cave information\n",
    "        path_before_this_cave, (next_cave, next_islarge, next_notstart, next_isend), small_not_twice_visited = todo.popleft()\n",
    "        path_to_this_cave = [*path_before_this_cave, next_cave]\n",
    "\n",
    "        # are we going to visit the next cave?\n",
    "        visit = False\n",
    "        if next_isend:\n",
    "            # 'end' cave: visit but last in path, just store\n",
    "            paths_found.append(\",\".join(path_to_this_cave))\n",
    "        elif next_islarge:\n",
    "            # large cave: always visit\n",
    "            visit = True\n",
    "        else:\n",
    "            if next_cave not in path_before_this_cave:\n",
    "                # small cave: visit when not visited before\n",
    "                visit = True\n",
    "            elif small_not_twice_visited and next_notstart:\n",
    "                # visited next (small) cave earlier once (it's in path_before_this_cave),\n",
    "                # visit again when it's not the start\n",
    "                small_not_twice_visited = False\n",
    "                visit = True\n",
    "\n",
    "        # when we visit the next cave: investigate its neighbours\n",
    "        if visit:\n",
    "            for cave in graph[next_cave]:\n",
    "                todo.append((path_to_this_cave, cave, small_not_twice_visited))\n",
    "\n",
    "    return sorted(paths_found)"
   ]
  },
  {
   "cell_type": "code",
   "execution_count": 10,
   "id": "2562c258-163d-42e3-bfdc-93fdfaf953e6",
   "metadata": {},
   "outputs": [
    {
     "name": "stdout",
     "output_type": "stream",
     "text": [
      "Check part 1 (small example): True\n",
      "Check part 1 (small example): True\n"
     ]
    }
   ],
   "source": [
    "graph = parse_graph(small_example_data)\n",
    "print(f\"Check part 1 (small example): {len(get_paths2(graph)) == 36}\")\n",
    "print(f\"Check part 1 (small example): {get_paths2(graph) == small_example_expected_2}\")"
   ]
  },
  {
   "cell_type": "code",
   "execution_count": 11,
   "id": "1c3793c0-223b-4db0-aa87-3af04066b353",
   "metadata": {},
   "outputs": [
    {
     "name": "stdout",
     "output_type": "stream",
     "text": [
      "Check part 1 (slightly larger): True\n"
     ]
    }
   ],
   "source": [
    "graph = parse_graph(slightly_larger_data)\n",
    "print(f\"Check part 1 (slightly larger): {len(get_paths2(graph)) == 103}\")"
   ]
  },
  {
   "cell_type": "code",
   "execution_count": 12,
   "id": "4ea42d23-3219-40e0-8928-c5a17c225951",
   "metadata": {},
   "outputs": [
    {
     "name": "stdout",
     "output_type": "stream",
     "text": [
      "Check part 1 (even larger): True\n"
     ]
    }
   ],
   "source": [
    "graph = parse_graph(even_larger_data)\n",
    "print(f\"Check part 1 (even larger): {len(get_paths2(graph)) == 3509}\")"
   ]
  },
  {
   "cell_type": "code",
   "execution_count": 13,
   "id": "aa93967c-ee90-47c8-b7c3-df7262e44b17",
   "metadata": {},
   "outputs": [
    {
     "name": "stdout",
     "output_type": "stream",
     "text": [
      "Answer part 2: 149385\n"
     ]
    }
   ],
   "source": [
    "graph = parse_graph(input_data)\n",
    "print(f\"Answer part 2: {len(get_paths2(graph))}\")"
   ]
  },
  {
   "cell_type": "code",
   "execution_count": null,
   "id": "27a56aaa-fddc-49ec-9bde-8ec6277c2bbc",
   "metadata": {},
   "outputs": [],
   "source": []
  }
 ],
 "metadata": {
  "kernelspec": {
   "display_name": "Python 3 (ipykernel)",
   "language": "python",
   "name": "python3"
  },
  "language_info": {
   "codemirror_mode": {
    "name": "ipython",
    "version": 3
   },
   "file_extension": ".py",
   "mimetype": "text/x-python",
   "name": "python",
   "nbconvert_exporter": "python",
   "pygments_lexer": "ipython3",
   "version": "3.10.1"
  }
 },
 "nbformat": 4,
 "nbformat_minor": 5
}
