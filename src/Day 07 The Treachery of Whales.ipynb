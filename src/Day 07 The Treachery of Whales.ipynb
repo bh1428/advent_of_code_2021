{
 "cells": [
  {
   "cell_type": "markdown",
   "id": "c4fb472a-c02d-45d3-8fac-1a9b4eb13e0e",
   "metadata": {},
   "source": [
    "# [Day 7: The Treachery of Whales](https://adventofcode.com/2021/day/7)"
   ]
  },
  {
   "cell_type": "code",
   "execution_count": 1,
   "id": "5f615200-d0c2-4c0b-9395-a1d33b90e273",
   "metadata": {},
   "outputs": [],
   "source": [
    "import functools as ft"
   ]
  },
  {
   "cell_type": "markdown",
   "id": "90cab8b4-70fd-4c01-b5ed-aebc3765f5ff",
   "metadata": {},
   "source": [
    "## Part 1"
   ]
  },
  {
   "cell_type": "code",
   "execution_count": 2,
   "id": "5dd452fb-0d22-4d11-b35b-fb757b962703",
   "metadata": {},
   "outputs": [],
   "source": [
    "example_data = [16, 1, 2, 0, 4, 2, 7, 1, 2, 14]"
   ]
  },
  {
   "cell_type": "code",
   "execution_count": 3,
   "id": "c7aed14f-e73c-472c-8865-f44279d62bc4",
   "metadata": {},
   "outputs": [],
   "source": [
    "def get_least_fuel_part1(start_positions):\n",
    "    required_fuel = []\n",
    "    for position in range(min(start_positions), max(start_positions)+1):\n",
    "        required_fuel.append((sum([abs(position-crab_pos) for crab_pos in start_positions]), position))\n",
    "    return sorted(required_fuel)[0][0]"
   ]
  },
  {
   "cell_type": "code",
   "execution_count": 4,
   "id": "a5259722-ade3-4dd6-9a0c-ba058ecf1391",
   "metadata": {},
   "outputs": [
    {
     "name": "stdout",
     "output_type": "stream",
     "text": [
      "Check part 1: True\n"
     ]
    }
   ],
   "source": [
    "print(f\"Check part 1: {get_least_fuel_part1(example_data) == 37}\")"
   ]
  },
  {
   "cell_type": "code",
   "execution_count": 5,
   "id": "2593b941-e671-43d7-b228-11d258dab359",
   "metadata": {},
   "outputs": [
    {
     "name": "stdout",
     "output_type": "stream",
     "text": [
      "Input check: True\n"
     ]
    }
   ],
   "source": [
    "with open(r\"..\\data\\Day 07 input.txt\", \"r\") as fh_in:\n",
    "    start_positions = list(map(int, fh_in.readlines()[0].split(\",\")))\n",
    "print(f\"Input check: {len(start_positions) == 1000}\")"
   ]
  },
  {
   "cell_type": "code",
   "execution_count": 6,
   "id": "a1c907e0-61bb-4df4-b4af-d6fac5ae7cfd",
   "metadata": {},
   "outputs": [
    {
     "name": "stdout",
     "output_type": "stream",
     "text": [
      "Answer part 1: 333755\n"
     ]
    }
   ],
   "source": [
    "print(f\"Answer part 1: {get_least_fuel_part1(start_positions)}\")"
   ]
  },
  {
   "cell_type": "markdown",
   "id": "5810291d-528b-4edc-b11f-ed6a780bf598",
   "metadata": {},
   "source": [
    "## Part 2"
   ]
  },
  {
   "cell_type": "code",
   "execution_count": 7,
   "id": "cd1662d3-ef08-4dc3-ad66-c91e3d4e4747",
   "metadata": {},
   "outputs": [],
   "source": [
    "@ft.cache\n",
    "def get_required_fuel(steps):\n",
    "    return sum(range(1, steps+1))              \n",
    "                      \n",
    "def get_least_fuel_part2(start_positions):\n",
    "    required_fuel = []\n",
    "    for position in range(min(start_positions), max(start_positions)+1):\n",
    "        required_fuel.append((\n",
    "            sum([get_required_fuel(abs(position-crab_pos)) for crab_pos in start_positions]),\n",
    "            position\n",
    "        ))\n",
    "    return sorted(required_fuel)[0][0]"
   ]
  },
  {
   "cell_type": "code",
   "execution_count": 8,
   "id": "8885c9fb-61d9-4526-a8f4-af74e7288293",
   "metadata": {},
   "outputs": [
    {
     "name": "stdout",
     "output_type": "stream",
     "text": [
      "Check part 2: True\n"
     ]
    }
   ],
   "source": [
    "print(f\"Check part 2: {get_least_fuel_part2(example_data) == 168}\")"
   ]
  },
  {
   "cell_type": "code",
   "execution_count": 9,
   "id": "0be39616-ccc1-4e78-99d9-635e47168902",
   "metadata": {},
   "outputs": [
    {
     "name": "stdout",
     "output_type": "stream",
     "text": [
      "Answer part 2: 94017638\n"
     ]
    }
   ],
   "source": [
    "print(f\"Answer part 2: {get_least_fuel_part2(start_positions)}\")"
   ]
  },
  {
   "cell_type": "code",
   "execution_count": null,
   "id": "e9c195df-1328-4f73-9d59-ac81d7dc813b",
   "metadata": {},
   "outputs": [],
   "source": []
  }
 ],
 "metadata": {
  "kernelspec": {
   "display_name": "Python 3 (ipykernel)",
   "language": "python",
   "name": "python3"
  },
  "language_info": {
   "codemirror_mode": {
    "name": "ipython",
    "version": 3
   },
   "file_extension": ".py",
   "mimetype": "text/x-python",
   "name": "python",
   "nbconvert_exporter": "python",
   "pygments_lexer": "ipython3",
   "version": "3.10.0"
  }
 },
 "nbformat": 4,
 "nbformat_minor": 5
}
